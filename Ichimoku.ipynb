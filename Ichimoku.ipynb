{
  "nbformat": 4,
  "nbformat_minor": 0,
  "metadata": {
    "colab": {
      "provenance": [],
      "authorship_tag": "ABX9TyOHiynmgTC7DqQUBm8YD1cc",
      "include_colab_link": true
    },
    "kernelspec": {
      "name": "python3",
      "display_name": "Python 3"
    },
    "language_info": {
      "name": "python"
    }
  },
  "cells": [
    {
      "cell_type": "markdown",
      "metadata": {
        "id": "view-in-github",
        "colab_type": "text"
      },
      "source": [
        "<a href=\"https://colab.research.google.com/github/Edu963/ichimoku/blob/main/Ichimoku.ipynb\" target=\"_parent\"><img src=\"https://colab.research.google.com/assets/colab-badge.svg\" alt=\"Open In Colab\"/></a>"
      ]
    },
    {
      "cell_type": "code",
      "source": [
        "import pandas as pd\n",
        "import numpy as np\n",
        "import yfinance as yf\n",
        "import matplotlib.pyplot as plt"
      ],
      "metadata": {
        "id": "ZZvyYbarEz6c"
      },
      "execution_count": null,
      "outputs": []
    },
    {
      "cell_type": "code",
      "source": [
        "# Download historical stock price data\n",
        "df = yf.download(\"HUBS\", start=\"2024-03-11\", end=\"2024-12-31\", interval='15m')"
      ],
      "metadata": {
        "colab": {
          "base_uri": "https://localhost:8080/"
        },
        "id": "Ol_ntJHFFAIB",
        "outputId": "97f492ed-4232-42d3-b935-7cb36e4f5f4e"
      },
      "execution_count": null,
      "outputs": [
        {
          "output_type": "stream",
          "name": "stderr",
          "text": [
            "\r[*********************100%%**********************]  1 of 1 completed\n"
          ]
        }
      ]
    },
    {
      "cell_type": "code",
      "source": [
        "def ichimoku_cloud(df, n_delay=26, k_delay=9, lag_span=52):\n",
        "    tenkan_sen_high = df['High'].rolling(window=n_delay).max()\n",
        "    tenkan_sen_low = df['Low'].rolling(window=n_delay).min()\n",
        "    tenkan_sen = (tenkan_sen_high + tenkan_sen_low) / 2\n",
        "    kijun_sen_high = df['High'].rolling(window=k_delay).max()\n",
        "    kijun_sen_low = df['Low'].rolling(window=k_delay).min()\n",
        "    kijun_sen = (kijun_sen_high + kijun_sen_low) / 2\n",
        "    senkou_span_a = ((tenkan_sen + kijun_sen) / 2).shift(k_delay)\n",
        "    lagging_span_high = df['High'].rolling(window=lag_span).max()\n",
        "    lagging_span_low = df['Low'].rolling(window=lag_span).min()\n",
        "    senkou_span_b = ((lagging_span_high + lagging_span_low) / 2).shift(lag_span)\n",
        "    chikou_span = df['Close'].shift(-k_delay)\n",
        "    return pd.DataFrame({\n",
        "        'Tenkan-Sen': tenkan_sen,\n",
        "        'Kijun-Sen': kijun_sen,\n",
        "        'Senkou Span A': senkou_span_a,\n",
        "        'Senkou Span B': senkou_span_b,\n",
        "        'Chikou Span': chikou_span,\n",
        "        'Close': df['Close'],\n",
        "        'Open': df['Open'],\n",
        "        'High': df['High'],\n",
        "        'Low': df['Low']\n",
        "    }, index=df.index)\n",
        "ichimoku = ichimoku_cloud(df)\n",
        "\n",
        "print(\"Tenkan-Sen:\\n\", ichimoku['Tenkan-Sen'].head(10))\n",
        "print(\"\\nKijun-Sen:\\n\", ichimoku['Kijun-Sen'].head(10))\n",
        "print(\"\\nSenkou Span A:\\n\", ichimoku['Senkou Span A'].head(10))\n",
        "print(\"\\nSenkou Span B:\\n\", ichimoku['Senkou Span B'].head(10))\n",
        "print(\"\\nChikou Span:\\n\", ichimoku['Chikou Span'].head(10))\n",
        "\n",
        "    #return ichimoku\n"
      ],
      "metadata": {
        "colab": {
          "base_uri": "https://localhost:8080/"
        },
        "id": "blNuAzVFD-DG",
        "outputId": "a259cd0c-6e86-4282-e1a9-37ffaec4d4c5"
      },
      "execution_count": null,
      "outputs": [
        {
          "output_type": "stream",
          "name": "stdout",
          "text": [
            "Tenkan-Sen:\n",
            " Datetime\n",
            "2024-03-11 09:30:00   NaN\n",
            "2024-03-11 09:45:00   NaN\n",
            "2024-03-11 10:00:00   NaN\n",
            "2024-03-11 10:15:00   NaN\n",
            "2024-03-11 10:30:00   NaN\n",
            "2024-03-11 10:45:00   NaN\n",
            "2024-03-11 11:00:00   NaN\n",
            "2024-03-11 11:15:00   NaN\n",
            "2024-03-11 11:30:00   NaN\n",
            "2024-03-11 11:45:00   NaN\n",
            "Name: Tenkan-Sen, dtype: float64\n",
            "\n",
            "Kijun-Sen:\n",
            " Datetime\n",
            "2024-03-11 09:30:00           NaN\n",
            "2024-03-11 09:45:00           NaN\n",
            "2024-03-11 10:00:00           NaN\n",
            "2024-03-11 10:15:00           NaN\n",
            "2024-03-11 10:30:00           NaN\n",
            "2024-03-11 10:45:00           NaN\n",
            "2024-03-11 11:00:00           NaN\n",
            "2024-03-11 11:15:00           NaN\n",
            "2024-03-11 11:30:00    608.024994\n",
            "2024-03-11 11:45:00    608.024994\n",
            "Name: Kijun-Sen, dtype: float64\n",
            "\n",
            "Senkou Span A:\n",
            " Datetime\n",
            "2024-03-11 09:30:00   NaN\n",
            "2024-03-11 09:45:00   NaN\n",
            "2024-03-11 10:00:00   NaN\n",
            "2024-03-11 10:15:00   NaN\n",
            "2024-03-11 10:30:00   NaN\n",
            "2024-03-11 10:45:00   NaN\n",
            "2024-03-11 11:00:00   NaN\n",
            "2024-03-11 11:15:00   NaN\n",
            "2024-03-11 11:30:00   NaN\n",
            "2024-03-11 11:45:00   NaN\n",
            "Name: Senkou Span A, dtype: float64\n",
            "\n",
            "Senkou Span B:\n",
            " Datetime\n",
            "2024-03-11 09:30:00   NaN\n",
            "2024-03-11 09:45:00   NaN\n",
            "2024-03-11 10:00:00   NaN\n",
            "2024-03-11 10:15:00   NaN\n",
            "2024-03-11 10:30:00   NaN\n",
            "2024-03-11 10:45:00   NaN\n",
            "2024-03-11 11:00:00   NaN\n",
            "2024-03-11 11:15:00   NaN\n",
            "2024-03-11 11:30:00   NaN\n",
            "2024-03-11 11:45:00   NaN\n",
            "Name: Senkou Span B, dtype: float64\n",
            "\n",
            "Chikou Span:\n",
            " Datetime\n",
            "2024-03-11 09:30:00    611.320007\n",
            "2024-03-11 09:45:00    610.065002\n",
            "2024-03-11 10:00:00    612.760010\n",
            "2024-03-11 10:15:00    614.224976\n",
            "2024-03-11 10:30:00    614.580017\n",
            "2024-03-11 10:45:00    614.280029\n",
            "2024-03-11 11:00:00    615.229980\n",
            "2024-03-11 11:15:00    613.530029\n",
            "2024-03-11 11:30:00    615.239990\n",
            "2024-03-11 11:45:00    615.289978\n",
            "Name: Chikou Span, dtype: float64\n"
          ]
        }
      ]
    },
    {
      "cell_type": "code",
      "execution_count": null,
      "metadata": {
        "id": "rD7lNnueAl--"
      },
      "outputs": [],
      "source": [
        "def ichimoku_trading_signals(df, ichimoku, displacement=26):\n",
        "    buy_signal = (\n",
        "        (df['Close'].shift(-displacement) > ichimoku['Senkou Span B']) &\n",
        "        (np.minimum(df['Close'], df['Open']) > ichimoku['Kijun-Sen']) &\n",
        "        (df['Close'].shift(-displacement) > ichimoku['Senkou Span B'].shift(-displacement))\n",
        "    )\n",
        "    sell_signal = (\n",
        "        (df['Close'].shift(-displacement) < ichimoku['Senkou Span B']) &\n",
        "        (np.minimum(df['Close'], df['Open']) < ichimoku['Kijun-Sen']) &\n",
        "        (df['Close'].shift(-displacement) < ichimoku['Senkou Span B'].shift(-displacement))\n",
        "    )\n",
        "    signals = pd.DataFrame({\n",
        "        'Buy Signal': buy_signal,\n",
        "        'Sell Signal': sell_signal\n",
        "    }, index=df.index)\n",
        "    return signals\n",
        "\n",
        "\n",
        "\n"
      ]
    },
    {
      "cell_type": "code",
      "source": [
        "# Calculate Ichimoku Cloud\n",
        "ichimoku = ichimoku_cloud(df)\n",
        "\n",
        "# Generate trading signals\n",
        "signals = ichimoku_trading_signals(df, ichimoku, displacement=26)"
      ],
      "metadata": {
        "id": "GNL_UrpdGDCx"
      },
      "execution_count": null,
      "outputs": []
    },
    {
      "cell_type": "code",
      "source": [
        "print(\"Buy signals:\", signals['Buy Signal'].sum())\n",
        "print(\"Sell signals:\", signals['Sell Signal'].sum())"
      ],
      "metadata": {
        "colab": {
          "base_uri": "https://localhost:8080/"
        },
        "id": "5kUfZoYwL_7x",
        "outputId": "82ad4680-eb5c-4b1c-c445-a585b970b07a"
      },
      "execution_count": null,
      "outputs": [
        {
          "output_type": "stream",
          "name": "stdout",
          "text": [
            "Buy signals: 167\n",
            "Sell signals: 272\n"
          ]
        }
      ]
    },
    {
      "cell_type": "code",
      "source": [
        "def backtest(df, signals):\n",
        "    df['Position'] = np.where(signals['Buy Signal'], 1, 0)\n",
        "    df['Position'] = np.where(signals['Sell Signal'], -1, df['Position'])\n",
        "    df['Position'] = df['Position'].ffill().fillna(0)\n",
        "    df['PnL'] = df['Position'].shift(1) * df['Close'].pct_change()\n",
        "    df['Cumulative PnL'] = df['PnL'].cumsum()\n",
        "    return df['Cumulative PnL']\n",
        "\n",
        "cumulative_pnl = backtest(df, signals)\n",
        "print(cumulative_pnl.tail())"
      ],
      "metadata": {
        "colab": {
          "base_uri": "https://localhost:8080/"
        },
        "id": "XQPVqf7PBlYi",
        "outputId": "209c6b6d-9505-43d4-dd79-f5e311165c34"
      },
      "execution_count": null,
      "outputs": [
        {
          "output_type": "stream",
          "name": "stdout",
          "text": [
            "Datetime\n",
            "2024-05-02 11:15:00    0.216557\n",
            "2024-05-02 11:30:00    0.216557\n",
            "2024-05-02 11:45:00    0.216557\n",
            "2024-05-02 12:00:00    0.216557\n",
            "2024-05-02 12:15:00    0.216557\n",
            "Name: Cumulative PnL, dtype: float64\n"
          ]
        }
      ]
    },
    {
      "cell_type": "code",
      "source": [
        "def evaluate_performance(df, signals):\n",
        "    # Calculate strategy returns\n",
        "    df['Position'] = np.where(signals['Buy Signal'], 1, np.where(signals['Sell Signal'], -1, 0))\n",
        "    df['Position'] = df['Position'].ffill().fillna(0)\n",
        "    df['Returns'] = df['Close'].pct_change()\n",
        "    df['Strategy Returns'] = df['Position'].shift(1) * df['Returns']\n",
        "\n",
        "    # Calculate cumulative returns for the strategy\n",
        "    df['Cumulative Strategy Returns'] = (1 + df['Strategy Returns']).cumprod() - 1\n",
        "\n",
        "    # Calculate performance metrics\n",
        "    total_return = df['Cumulative Strategy Returns'].iloc[-1]\n",
        "    max_drawdown = (df['Cumulative Strategy Returns'].cummax() - df['Cumulative Strategy Returns']).max()\n",
        "    annualized_sharpe_ratio = (df['Strategy Returns'].mean() / df['Strategy Returns'].std()) * np.sqrt(252)\n",
        "\n",
        "    trades = signals['Buy Signal'].sum() + signals['Sell Signal'].sum()\n",
        "    average_profit_loss_per_trade = df['Strategy Returns'].sum() / trades if trades != 0 else 0\n",
        "\n",
        "    performance_metrics = {\n",
        "        'Total Return': f'{total_return * 100:.2f}%',\n",
        "        'Max Drawdown': f'{max_drawdown * 100:.2f}%',\n",
        "        'Annualized Sharpe Ratio': f'{annualized_sharpe_ratio:.2f}',\n",
        "        'Number of Trades': trades,\n",
        "        'Average Profit/Loss per Trade': f'{average_profit_loss_per_trade * 100:.2f}%'\n",
        "    }\n",
        "\n",
        "    return performance_metrics\n",
        "\n"
      ],
      "metadata": {
        "id": "ONH6_A6eBoCG"
      },
      "execution_count": null,
      "outputs": []
    },
    {
      "cell_type": "code",
      "source": [
        "performance_metrics = evaluate_performance(df, signals)\n",
        "print(performance_metrics)"
      ],
      "metadata": {
        "colab": {
          "base_uri": "https://localhost:8080/"
        },
        "id": "mrrq0QxXMkvV",
        "outputId": "f9182c4a-ede3-45c1-b0b3-df1b8c091e62"
      },
      "execution_count": null,
      "outputs": [
        {
          "output_type": "stream",
          "name": "stdout",
          "text": [
            "{'Total Return': '23.62%', 'Max Drawdown': '4.27%', 'Annualized Sharpe Ratio': '1.16', 'Number of Trades': 439, 'Average Profit/Loss per Trade': '0.05%'}\n"
          ]
        }
      ]
    },
    {
      "cell_type": "code",
      "source": [
        "# Setup for grid search\n",
        "n_delays = range(9, 37, 3)\n",
        "k_delays = range(3, 19, 3)\n",
        "lag_spans = range(26, 79, 13)\n",
        "\n",
        "results = []\n",
        "\n",
        "for n in n_delays:\n",
        "    for k in k_delays:\n",
        "        for lag in lag_spans:\n",
        "            ichimoku = ichimoku_cloud(df, n_delay=n, k_delay=k, lag_span=lag)\n",
        "            signals = ichimoku_trading_signals(df, ichimoku)\n",
        "            performance_metrics = evaluate_performance(df, signals)\n",
        "            results.append((n, k, lag, performance_metrics))\n",
        "\n",
        "# Analyze results to find the best parameters\n",
        "best_result = sorted(results, key=lambda x: x[3]['Total Return'], reverse=True)[0]\n",
        "print(\"Best parameters:\", best_result)"
      ],
      "metadata": {
        "colab": {
          "base_uri": "https://localhost:8080/"
        },
        "id": "aVOcv4ogEk96",
        "outputId": "93198d2c-1183-40e8-8430-936b85c24b43"
      },
      "execution_count": null,
      "outputs": [
        {
          "output_type": "stream",
          "name": "stdout",
          "text": [
            "Best parameters: (9, 3, 78, {'Total Return': '9.63%', 'Max Drawdown': '4.88%', 'Annualized Sharpe Ratio': '0.52', 'Number of Trades': 380, 'Average Profit/Loss per Trade': '0.03%'})\n"
          ]
        }
      ]
    }
  ]
}