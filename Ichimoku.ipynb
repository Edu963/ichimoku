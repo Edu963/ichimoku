{
  "nbformat": 4,
  "nbformat_minor": 0,
  "metadata": {
    "colab": {
      "provenance": [],
      "authorship_tag": "ABX9TyPHFNb1euGR91ACw0is9JzC",
      "include_colab_link": true
    },
    "kernelspec": {
      "name": "python3",
      "display_name": "Python 3"
    },
    "language_info": {
      "name": "python"
    }
  },
  "cells": [
    {
      "cell_type": "markdown",
      "metadata": {
        "id": "view-in-github",
        "colab_type": "text"
      },
      "source": [
        "<a href=\"https://colab.research.google.com/github/Edu963/ichimoku/blob/main/Ichimoku.ipynb\" target=\"_parent\"><img src=\"https://colab.research.google.com/assets/colab-badge.svg\" alt=\"Open In Colab\"/></a>"
      ]
    },
    {
      "cell_type": "code",
      "source": [
        "import pandas as pd\n",
        "import numpy as np\n",
        "import yfinance as yf"
      ],
      "metadata": {
        "id": "ZZvyYbarEz6c"
      },
      "execution_count": 59,
      "outputs": []
    },
    {
      "cell_type": "code",
      "source": [
        "# Download historical stock price data\n",
        "df = yf.download(\"COIN\", start=\"2024-03-11\", end=\"2024-12-31\", interval='15m')"
      ],
      "metadata": {
        "colab": {
          "base_uri": "https://localhost:8080/"
        },
        "id": "Ol_ntJHFFAIB",
        "outputId": "cf0171d9-a4d5-4185-98a1-d7d9fbce40fb"
      },
      "execution_count": 60,
      "outputs": [
        {
          "output_type": "stream",
          "name": "stderr",
          "text": [
            "\r[*********************100%%**********************]  1 of 1 completed\n"
          ]
        }
      ]
    },
    {
      "cell_type": "code",
      "source": [
        "def ichimoku_cloud(df, n_delay=26, k_delay=9, lag_span=52):\n",
        "    tenkan_sen_high = df['High'].rolling(window=n_delay).max()\n",
        "    tenkan_sen_low = df['Low'].rolling(window=n_delay).min()\n",
        "    tenkan_sen = (tenkan_sen_high + tenkan_sen_low) / 2\n",
        "    kijun_sen_high = df['High'].rolling(window=k_delay).max()\n",
        "    kijun_sen_low = df['Low'].rolling(window=k_delay).min()\n",
        "    kijun_sen = (kijun_sen_high + kijun_sen_low) / 2\n",
        "    senkou_span_a = ((tenkan_sen + kijun_sen) / 2).shift(k_delay)\n",
        "    lagging_span_high = df['High'].rolling(window=lag_span).max()\n",
        "    lagging_span_low = df['Low'].rolling(window=lag_span).min()\n",
        "    senkou_span_b = ((lagging_span_high + lagging_span_low) / 2).shift(lag_span)\n",
        "    chikou_span = df['Close'].shift(-k_delay)\n",
        "    return pd.DataFrame({\n",
        "        'Tenkan-Sen': tenkan_sen,\n",
        "        'Kijun-Sen': kijun_sen,\n",
        "        'Senkou Span A': senkou_span_a,\n",
        "        'Senkou Span B': senkou_span_b,\n",
        "        'Chikou Span': chikou_span,\n",
        "        'Close': df['Close'],\n",
        "        'Open': df['Open'],\n",
        "        'High': df['High'],\n",
        "        'Low': df['Low']\n",
        "    }, index=df.index)\n",
        "ichimoku = ichimoku_cloud(df)\n",
        "\n",
        "print(\"Tenkan-Sen:\\n\", ichimoku['Tenkan-Sen'].head(10))\n",
        "print(\"\\nKijun-Sen:\\n\", ichimoku['Kijun-Sen'].head(10))\n",
        "print(\"\\nSenkou Span A:\\n\", ichimoku['Senkou Span A'].head(10))\n",
        "print(\"\\nSenkou Span B:\\n\", ichimoku['Senkou Span B'].head(10))\n",
        "print(\"\\nChikou Span:\\n\", ichimoku['Chikou Span'].head(10))\n",
        "\n",
        "    #return ichimoku\n"
      ],
      "metadata": {
        "colab": {
          "base_uri": "https://localhost:8080/"
        },
        "id": "blNuAzVFD-DG",
        "outputId": "77315933-e635-44ee-af5d-177b12acbf83"
      },
      "execution_count": 64,
      "outputs": [
        {
          "output_type": "stream",
          "name": "stdout",
          "text": [
            "Tenkan-Sen:\n",
            " Datetime\n",
            "2024-03-11 09:30:00   NaN\n",
            "2024-03-11 09:45:00   NaN\n",
            "2024-03-11 10:00:00   NaN\n",
            "2024-03-11 10:15:00   NaN\n",
            "2024-03-11 10:30:00   NaN\n",
            "2024-03-11 10:45:00   NaN\n",
            "2024-03-11 11:00:00   NaN\n",
            "2024-03-11 11:15:00   NaN\n",
            "2024-03-11 11:30:00   NaN\n",
            "2024-03-11 11:45:00   NaN\n",
            "Name: Tenkan-Sen, dtype: float64\n",
            "\n",
            "Kijun-Sen:\n",
            " Datetime\n",
            "2024-03-11 09:30:00           NaN\n",
            "2024-03-11 09:45:00           NaN\n",
            "2024-03-11 10:00:00           NaN\n",
            "2024-03-11 10:15:00           NaN\n",
            "2024-03-11 10:30:00           NaN\n",
            "2024-03-11 10:45:00           NaN\n",
            "2024-03-11 11:00:00           NaN\n",
            "2024-03-11 11:15:00           NaN\n",
            "2024-03-11 11:30:00    263.574997\n",
            "2024-03-11 11:45:00    263.574997\n",
            "Name: Kijun-Sen, dtype: float64\n",
            "\n",
            "Senkou Span A:\n",
            " Datetime\n",
            "2024-03-11 09:30:00   NaN\n",
            "2024-03-11 09:45:00   NaN\n",
            "2024-03-11 10:00:00   NaN\n",
            "2024-03-11 10:15:00   NaN\n",
            "2024-03-11 10:30:00   NaN\n",
            "2024-03-11 10:45:00   NaN\n",
            "2024-03-11 11:00:00   NaN\n",
            "2024-03-11 11:15:00   NaN\n",
            "2024-03-11 11:30:00   NaN\n",
            "2024-03-11 11:45:00   NaN\n",
            "Name: Senkou Span A, dtype: float64\n",
            "\n",
            "Senkou Span B:\n",
            " Datetime\n",
            "2024-03-11 09:30:00   NaN\n",
            "2024-03-11 09:45:00   NaN\n",
            "2024-03-11 10:00:00   NaN\n",
            "2024-03-11 10:15:00   NaN\n",
            "2024-03-11 10:30:00   NaN\n",
            "2024-03-11 10:45:00   NaN\n",
            "2024-03-11 11:00:00   NaN\n",
            "2024-03-11 11:15:00   NaN\n",
            "2024-03-11 11:30:00   NaN\n",
            "2024-03-11 11:45:00   NaN\n",
            "Name: Senkou Span B, dtype: float64\n",
            "\n",
            "Chikou Span:\n",
            " Datetime\n",
            "2024-03-11 09:30:00    267.510010\n",
            "2024-03-11 09:45:00    269.010010\n",
            "2024-03-11 10:00:00    269.406891\n",
            "2024-03-11 10:15:00    269.122498\n",
            "2024-03-11 10:30:00    269.019989\n",
            "2024-03-11 10:45:00    266.000000\n",
            "2024-03-11 11:00:00    267.950012\n",
            "2024-03-11 11:15:00    266.329987\n",
            "2024-03-11 11:30:00    268.195007\n",
            "2024-03-11 11:45:00    267.049988\n",
            "Name: Chikou Span, dtype: float64\n"
          ]
        }
      ]
    },
    {
      "cell_type": "code",
      "source": [
        "#ichimoku = ichimoku_cloud(df, displacement=26)"
      ],
      "metadata": {
        "colab": {
          "base_uri": "https://localhost:8080/",
          "height": 164
        },
        "id": "vxVlhhxfFF59",
        "outputId": "d70f5b0c-b73d-4561-c304-5ee55ad3ffc0"
      },
      "execution_count": 65,
      "outputs": [
        {
          "output_type": "error",
          "ename": "TypeError",
          "evalue": "ichimoku_cloud() got an unexpected keyword argument 'displacement'",
          "traceback": [
            "\u001b[0;31m---------------------------------------------------------------------------\u001b[0m",
            "\u001b[0;31mTypeError\u001b[0m                                 Traceback (most recent call last)",
            "\u001b[0;32m<ipython-input-65-622d3dfbf10d>\u001b[0m in \u001b[0;36m<cell line: 1>\u001b[0;34m()\u001b[0m\n\u001b[0;32m----> 1\u001b[0;31m \u001b[0michimoku\u001b[0m \u001b[0;34m=\u001b[0m \u001b[0michimoku_cloud\u001b[0m\u001b[0;34m(\u001b[0m\u001b[0mdf\u001b[0m\u001b[0;34m,\u001b[0m \u001b[0mdisplacement\u001b[0m\u001b[0;34m=\u001b[0m\u001b[0;36m26\u001b[0m\u001b[0;34m)\u001b[0m\u001b[0;34m\u001b[0m\u001b[0;34m\u001b[0m\u001b[0m\n\u001b[0m",
            "\u001b[0;31mTypeError\u001b[0m: ichimoku_cloud() got an unexpected keyword argument 'displacement'"
          ]
        }
      ]
    },
    {
      "cell_type": "code",
      "execution_count": 66,
      "metadata": {
        "id": "rD7lNnueAl--"
      },
      "outputs": [],
      "source": [
        "def ichimoku_trading_signals(df, ichimoku, displacement=26):\n",
        "    buy_signal = (\n",
        "        (df['Close'].shift(-displacement) > ichimoku['Senkou Span B']) &\n",
        "        (np.minimum(df['Close'], df['Open']) > ichimoku['Kijun-Sen']) &\n",
        "        (df['Close'].shift(-displacement) > ichimoku['Senkou Span B'].shift(-displacement))\n",
        "    )\n",
        "    sell_signal = (\n",
        "        (df['Close'].shift(-displacement) < ichimoku['Senkou Span B']) &\n",
        "        (np.minimum(df['Close'], df['Open']) < ichimoku['Kijun-Sen']) &\n",
        "        (df['Close'].shift(-displacement) < ichimoku['Senkou Span B'].shift(-displacement))\n",
        "    )\n",
        "    signals = pd.DataFrame({\n",
        "        'Buy Signal': buy_signal,\n",
        "        'Sell Signal': sell_signal\n",
        "    }, index=df.index)\n",
        "    return signals\n",
        "\n",
        "\n",
        "\n"
      ]
    },
    {
      "cell_type": "code",
      "source": [
        "# Calculate Ichimoku Cloud\n",
        "ichimoku = ichimoku_cloud(df)\n",
        "\n",
        "# Generate trading signals\n",
        "signals = ichimoku_trading_signals(df, ichimoku, displacement=26)"
      ],
      "metadata": {
        "id": "GNL_UrpdGDCx"
      },
      "execution_count": 67,
      "outputs": []
    },
    {
      "cell_type": "code",
      "source": [
        "print(\"Buy signals:\", signals['Buy Signal'].sum())\n",
        "print(\"Sell signals:\", signals['Sell Signal'].sum())"
      ],
      "metadata": {
        "colab": {
          "base_uri": "https://localhost:8080/"
        },
        "id": "5kUfZoYwL_7x",
        "outputId": "8834335a-3f7a-4c49-e6d0-b3a84dda5440"
      },
      "execution_count": 68,
      "outputs": [
        {
          "output_type": "stream",
          "name": "stdout",
          "text": [
            "Buy signals: 145\n",
            "Sell signals: 281\n"
          ]
        }
      ]
    },
    {
      "cell_type": "code",
      "source": [
        "def backtest(df, signals):\n",
        "    df['Position'] = np.where(signals['Buy Signal'], 1, 0)\n",
        "    df['Position'] = np.where(signals['Sell Signal'], -1, df['Position'])\n",
        "    df['Position'] = df['Position'].ffill().fillna(0)\n",
        "    df['PnL'] = df['Position'].shift(1) * df['Close'].pct_change()\n",
        "    df['Cumulative PnL'] = df['PnL'].cumsum()\n",
        "    return df['Cumulative PnL']\n",
        "\n",
        "cumulative_pnl = backtest(df, signals)\n",
        "print(cumulative_pnl.tail())"
      ],
      "metadata": {
        "colab": {
          "base_uri": "https://localhost:8080/"
        },
        "id": "XQPVqf7PBlYi",
        "outputId": "0c79e851-b845-4841-e178-d46e446e23dd"
      },
      "execution_count": 69,
      "outputs": [
        {
          "output_type": "stream",
          "name": "stdout",
          "text": [
            "Datetime\n",
            "2024-05-01 14:45:00    0.304949\n",
            "2024-05-01 15:00:00    0.304949\n",
            "2024-05-01 15:15:00    0.304949\n",
            "2024-05-01 15:30:00    0.304949\n",
            "2024-05-01 15:45:00    0.304949\n",
            "Name: Cumulative PnL, dtype: float64\n"
          ]
        }
      ]
    },
    {
      "cell_type": "code",
      "source": [
        "def evaluate_performance(df, signals):\n",
        "    # Calculate strategy returns\n",
        "    df['Position'] = np.where(signals['Buy Signal'], 1, np.where(signals['Sell Signal'], -1, 0))\n",
        "    df['Position'] = df['Position'].ffill().fillna(0)\n",
        "    df['Returns'] = df['Close'].pct_change()\n",
        "    df['Strategy Returns'] = df['Position'].shift(1) * df['Returns']\n",
        "\n",
        "    # Calculate cumulative returns for the strategy\n",
        "    df['Cumulative Strategy Returns'] = (1 + df['Strategy Returns']).cumprod() - 1\n",
        "\n",
        "    # Calculate performance metrics\n",
        "    total_return = df['Cumulative Strategy Returns'].iloc[-1]\n",
        "    max_drawdown = (df['Cumulative Strategy Returns'].cummax() - df['Cumulative Strategy Returns']).max()\n",
        "    annualized_sharpe_ratio = (df['Strategy Returns'].mean() / df['Strategy Returns'].std()) * np.sqrt(252)\n",
        "\n",
        "    trades = signals['Buy Signal'].sum() + signals['Sell Signal'].sum()\n",
        "    average_profit_loss_per_trade = df['Strategy Returns'].sum() / trades if trades != 0 else 0\n",
        "\n",
        "    performance_metrics = {\n",
        "        'Total Return': f'{total_return * 100:.2f}%',\n",
        "        'Max Drawdown': f'{max_drawdown * 100:.2f}%',\n",
        "        'Annualized Sharpe Ratio': f'{annualized_sharpe_ratio:.2f}',\n",
        "        'Number of Trades': trades,\n",
        "        'Average Profit/Loss per Trade': f'{average_profit_loss_per_trade * 100:.2f}%'\n",
        "    }\n",
        "\n",
        "    return performance_metrics\n",
        "\n"
      ],
      "metadata": {
        "id": "ONH6_A6eBoCG"
      },
      "execution_count": 72,
      "outputs": []
    },
    {
      "cell_type": "code",
      "source": [
        "performance_metrics = evaluate_performance(df, signals)\n",
        "print(performance_metrics)"
      ],
      "metadata": {
        "colab": {
          "base_uri": "https://localhost:8080/"
        },
        "id": "mrrq0QxXMkvV",
        "outputId": "c6ac0ed7-2ec4-4d3d-fe9a-31189bb49f87"
      },
      "execution_count": 73,
      "outputs": [
        {
          "output_type": "stream",
          "name": "stdout",
          "text": [
            "{'Total Return': '33.34%', 'Max Drawdown': '20.60%', 'Annualized Sharpe Ratio': '0.84', 'Number of Trades': 426, 'Average Profit/Loss per Trade': '0.07%'}\n"
          ]
        }
      ]
    },
    {
      "cell_type": "code",
      "source": [
        "def analyze_performance(df, signals):\n",
        "    df['Position'] = np.where(signals['Buy Signal'], 1, 0)\n",
        "    df['Position'] = np.where(signals['Sell Signal'], -1, df['Position'])\n",
        "    df['Position'] = df['Position'].diff().fillna(0)\n",
        "\n",
        "    df['Returns'] = df['Close'].pct_change()\n",
        "    df['Strategy Returns'] = df['Position'].shift(1) * df['Returns']\n",
        "\n",
        "    total_return = (df['Close'][-1] / df['Close'][0]) - 1\n",
        "    max_drawdown = (df['Close'] / df['Close'].cummax() - 1).min()\n",
        "    annualized_sharpe_ratio = np.sqrt(252) * df['Strategy Returns'].mean() / df['Strategy Returns'].std()\n",
        "    annualized_return = ((1 + total_return) ** (252 / len(df))) - 1\n",
        "    number_of_trades = signals[signals != 0].sum()\n",
        "    average_profit_loss_per_trade = df['Strategy Returns'].sum() / number_of_trades\n",
        "\n",
        "    performance_metrics = {\n",
        "        'Total Return': f'{total_return * 100:.2f}%',\n",
        "        'Max Drawdown': f'{max_drawdown * 100:.2f}%',\n",
        "        'Annualized Sharpe Ratio': f'{annualized_sharpe_ratio:.2f}',\n",
        "        'Annualized Return': f'{annualized_return * 100:.2f}%',\n",
        "        'Number of Trades': number_of_trades,\n",
        "        'Average Profit/Loss per Trade': f'{average_profit_loss_per_trade.values.item() * 100:.2f}%'\n",
        "    }\n",
        "\n",
        "    return performance_metrics\n",
        "\n",
        "\n"
      ],
      "metadata": {
        "id": "-_O3tVXjB43J"
      },
      "execution_count": 57,
      "outputs": []
    },
    {
      "cell_type": "code",
      "source": [
        "performance_metrics = analyze_performance(df, signals)\n",
        "print(performance_metrics)"
      ],
      "metadata": {
        "colab": {
          "base_uri": "https://localhost:8080/",
          "height": 309
        },
        "id": "WKktUOksB70K",
        "outputId": "46da0f45-689f-4bdb-a08c-8aefe3774b65"
      },
      "execution_count": 58,
      "outputs": [
        {
          "output_type": "error",
          "ename": "ValueError",
          "evalue": "can only convert an array of size 1 to a Python scalar",
          "traceback": [
            "\u001b[0;31m---------------------------------------------------------------------------\u001b[0m",
            "\u001b[0;31mValueError\u001b[0m                                Traceback (most recent call last)",
            "\u001b[0;32m<ipython-input-58-cc38a2124103>\u001b[0m in \u001b[0;36m<cell line: 1>\u001b[0;34m()\u001b[0m\n\u001b[0;32m----> 1\u001b[0;31m \u001b[0mperformance_metrics\u001b[0m \u001b[0;34m=\u001b[0m \u001b[0manalyze_performance\u001b[0m\u001b[0;34m(\u001b[0m\u001b[0mdf\u001b[0m\u001b[0;34m,\u001b[0m \u001b[0msignals\u001b[0m\u001b[0;34m)\u001b[0m\u001b[0;34m\u001b[0m\u001b[0;34m\u001b[0m\u001b[0m\n\u001b[0m\u001b[1;32m      2\u001b[0m \u001b[0mprint\u001b[0m\u001b[0;34m(\u001b[0m\u001b[0mperformance_metrics\u001b[0m\u001b[0;34m)\u001b[0m\u001b[0;34m\u001b[0m\u001b[0;34m\u001b[0m\u001b[0m\n",
            "\u001b[0;32m<ipython-input-57-5cded32ac58f>\u001b[0m in \u001b[0;36manalyze_performance\u001b[0;34m(df, signals)\u001b[0m\n\u001b[1;32m     20\u001b[0m         \u001b[0;34m'Annualized Return'\u001b[0m\u001b[0;34m:\u001b[0m \u001b[0;34mf'{annualized_return * 100:.2f}%'\u001b[0m\u001b[0;34m,\u001b[0m\u001b[0;34m\u001b[0m\u001b[0;34m\u001b[0m\u001b[0m\n\u001b[1;32m     21\u001b[0m         \u001b[0;34m'Number of Trades'\u001b[0m\u001b[0;34m:\u001b[0m \u001b[0mnumber_of_trades\u001b[0m\u001b[0;34m,\u001b[0m\u001b[0;34m\u001b[0m\u001b[0;34m\u001b[0m\u001b[0m\n\u001b[0;32m---> 22\u001b[0;31m         \u001b[0;34m'Average Profit/Loss per Trade'\u001b[0m\u001b[0;34m:\u001b[0m \u001b[0;34mf'{average_profit_loss_per_trade.values.item() * 100:.2f}%'\u001b[0m\u001b[0;34m\u001b[0m\u001b[0;34m\u001b[0m\u001b[0m\n\u001b[0m\u001b[1;32m     23\u001b[0m     }\n\u001b[1;32m     24\u001b[0m \u001b[0;34m\u001b[0m\u001b[0m\n",
            "\u001b[0;31mValueError\u001b[0m: can only convert an array of size 1 to a Python scalar"
          ]
        }
      ]
    }
  ]
}