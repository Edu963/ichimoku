{
  "cells": [
    {
      "cell_type": "markdown",
      "metadata": {
        "id": "view-in-github",
        "colab_type": "text"
      },
      "source": [
        "<a href=\"https://colab.research.google.com/github/Edu963/ichimoku/blob/main/new_ichi_test.ipynb\" target=\"_parent\"><img src=\"https://colab.research.google.com/assets/colab-badge.svg\" alt=\"Open In Colab\"/></a>"
      ]
    },
    {
      "cell_type": "code",
      "execution_count": 1,
      "metadata": {
        "colab": {
          "base_uri": "https://localhost:8080/",
          "height": 362
        },
        "id": "zyuC-w-DqFHB",
        "outputId": "4e10d2db-67fd-4a34-b7a5-3e5a20cd31de"
      },
      "outputs": [
        {
          "output_type": "error",
          "ename": "ModuleNotFoundError",
          "evalue": "No module named 'vectorbt'",
          "traceback": [
            "\u001b[0;31m---------------------------------------------------------------------------\u001b[0m",
            "\u001b[0;31mModuleNotFoundError\u001b[0m                       Traceback (most recent call last)",
            "\u001b[0;32m<ipython-input-1-469258fce12c>\u001b[0m in \u001b[0;36m<cell line: 4>\u001b[0;34m()\u001b[0m\n\u001b[1;32m      2\u001b[0m \u001b[0;32mimport\u001b[0m \u001b[0mnumpy\u001b[0m \u001b[0;32mas\u001b[0m \u001b[0mnp\u001b[0m\u001b[0;34m\u001b[0m\u001b[0;34m\u001b[0m\u001b[0m\n\u001b[1;32m      3\u001b[0m \u001b[0;32mimport\u001b[0m \u001b[0myfinance\u001b[0m \u001b[0;32mas\u001b[0m \u001b[0myf\u001b[0m\u001b[0;34m\u001b[0m\u001b[0;34m\u001b[0m\u001b[0m\n\u001b[0;32m----> 4\u001b[0;31m \u001b[0;32mimport\u001b[0m \u001b[0mvectorbt\u001b[0m \u001b[0;32mas\u001b[0m \u001b[0mvbt\u001b[0m\u001b[0;34m\u001b[0m\u001b[0;34m\u001b[0m\u001b[0m\n\u001b[0m",
            "\u001b[0;31mModuleNotFoundError\u001b[0m: No module named 'vectorbt'",
            "",
            "\u001b[0;31m---------------------------------------------------------------------------\u001b[0;32m\nNOTE: If your import is failing due to a missing package, you can\nmanually install dependencies using either !pip or !apt.\n\nTo view examples of installing some common dependencies, click the\n\"Open Examples\" button below.\n\u001b[0;31m---------------------------------------------------------------------------\u001b[0m\n"
          ],
          "errorDetails": {
            "actions": [
              {
                "action": "open_url",
                "actionText": "Open Examples",
                "url": "/notebooks/snippets/importing_libraries.ipynb"
              }
            ]
          }
        }
      ],
      "source": [
        "import pandas as pd\n",
        "import numpy as np\n",
        "import yfinance as yf\n",
        "import vectorbt as vbt"
      ]
    },
    {
      "cell_type": "code",
      "execution_count": null,
      "metadata": {
        "id": "_SyccDluqFHD",
        "outputId": "e98de37d-30ca-4c27-de5a-06f78d4a9fdc"
      },
      "outputs": [
        {
          "name": "stderr",
          "output_type": "stream",
          "text": [
            "[*********************100%%**********************]  1 of 1 completed\n"
          ]
        }
      ],
      "source": [
        "# Download historical stock price data\n",
        "df = yf.download(\"COIN\", start=\"2024-04-01\", end=\"2024-12-31\", interval='15m')"
      ]
    },
    {
      "cell_type": "code",
      "execution_count": null,
      "metadata": {
        "id": "-AvIse1JqFHF"
      },
      "outputs": [],
      "source": [
        "# Define the Ichimoku Cloud function\n",
        "def ichimoku_cloud(df, n_delay=26, k_delay=9, lag_span=52):\n",
        "    # Calculate Tenkan-Sen\n",
        "    tenkan_sen_high = df['High'].rolling(window=n_delay).max()\n",
        "    tenkan_sen_low = df['Low'].rolling(window=n_delay).min()\n",
        "    tenkan_sen = (tenkan_sen_high + tenkan_sen_low) / 2\n",
        "\n",
        "    # Calculate Kijun-Sen\n",
        "    kijun_sen_high = df['High'].rolling(window=k_delay).max()\n",
        "    kijun_sen_low = df['Low'].rolling(window=k_delay).min()\n",
        "    kijun_sen = (kijun_sen_high + kijun_sen_low) / 2\n",
        "\n",
        "    # Calculate Senkou Span A\n",
        "    senkou_span_a = ((tenkan_sen + kijun_sen) / 2).shift(k_delay)\n",
        "\n",
        "    # Calculate Senkou Span B\n",
        "    lagging_span_high = df['High'].rolling(window=lag_span).max().shift(lag_span)\n",
        "    lagging_span_low = df['Low'].rolling(window=lag_span).min().shift(lag_span)\n",
        "    senkou_span_b = ((lagging_span_high + lagging_span_low) / 2).shift(k_delay)\n",
        "\n",
        "    # Calculate Chikou Span\n",
        "    chikou_span = df['Close'].shift(-k_delay)\n",
        "\n",
        "    # Include the 'Close' column in the output\n",
        "    return pd.DataFrame({\n",
        "        'Tenkan-Sen': tenkan_sen,\n",
        "        'Kijun-Sen': kijun_sen,\n",
        "        'Senkou Span A': senkou_span_a,\n",
        "        'Senkou Span B': senkou_span_b,\n",
        "        'Chikou Span': chikou_span,\n",
        "        'Close': df['Close'],  # Ensure 'Close' column is included\n",
        "        'Open': df['Open'],    # Include 'Open' column for potential use\n",
        "        'High': df['High'],\n",
        "        'Low': df['Low'],\n",
        "    }, index=df.index)\n"
      ]
    },
    {
      "cell_type": "code",
      "execution_count": null,
      "metadata": {
        "id": "ov_mgUOhqFHF",
        "outputId": "0163aa1a-9a32-48dc-eb1e-a0c502b8d126"
      },
      "outputs": [
        {
          "name": "stdout",
          "output_type": "stream",
          "text": [
            "                     Tenkan-Sen   Kijun-Sen  Senkou Span A  Senkou Span B  \\\n",
            "Datetime                                                                    \n",
            "2024-04-01 09:30:00         NaN         NaN            NaN            NaN   \n",
            "2024-04-01 09:45:00         NaN         NaN            NaN            NaN   \n",
            "2024-04-01 10:00:00         NaN         NaN            NaN            NaN   \n",
            "2024-04-01 10:15:00         NaN         NaN            NaN            NaN   \n",
            "2024-04-01 10:30:00         NaN         NaN            NaN            NaN   \n",
            "...                         ...         ...            ...            ...   \n",
            "2024-05-01 12:00:00  203.900002  202.515350     204.044971     227.099998   \n",
            "2024-05-01 12:15:00  203.034996  202.945351     203.834999     227.740005   \n",
            "2024-05-01 12:30:00  202.489998  202.945351     203.785000     227.740005   \n",
            "2024-05-01 12:45:00  202.279999  202.945351     203.785000     227.740005   \n",
            "2024-05-01 13:00:00  202.254997  202.945351     203.745724     227.840004   \n",
            "\n",
            "                     Chikou Span       Close        Open        High  \\\n",
            "Datetime                                                               \n",
            "2024-04-01 09:30:00   255.440002  262.806000  261.869995  264.950012   \n",
            "2024-04-01 09:45:00   255.774994  268.584015  263.429810  268.809998   \n",
            "2024-04-01 10:00:00   256.230103  266.899994  268.369995  268.799988   \n",
            "2024-04-01 10:15:00   254.449997  263.730011  266.950012  267.315002   \n",
            "2024-04-01 10:30:00   254.210007  260.054993  263.715088  264.839996   \n",
            "...                          ...         ...         ...         ...   \n",
            "2024-05-01 12:00:00          NaN  205.160004  201.009995  205.399994   \n",
            "2024-05-01 12:15:00          NaN  205.889999  205.105606  206.259995   \n",
            "2024-05-01 12:30:00          NaN  205.039993  205.820007  206.139999   \n",
            "2024-05-01 12:45:00          NaN  205.654999  205.229996  206.199997   \n",
            "2024-05-01 13:00:00          NaN  205.720001  205.649994  205.839996   \n",
            "\n",
            "                            Low  \n",
            "Datetime                         \n",
            "2024-04-01 09:30:00  257.600006  \n",
            "2024-04-01 09:45:00  263.244995  \n",
            "2024-04-01 10:00:00  265.579987  \n",
            "2024-04-01 10:15:00  262.600006  \n",
            "2024-04-01 10:30:00  259.450012  \n",
            "...                         ...  \n",
            "2024-05-01 12:00:00  200.589996  \n",
            "2024-05-01 12:15:00  204.559998  \n",
            "2024-05-01 12:30:00  204.770996  \n",
            "2024-05-01 12:45:00  205.050003  \n",
            "2024-05-01 13:00:00  205.562805  \n",
            "\n",
            "[587 rows x 9 columns]\n"
          ]
        }
      ],
      "source": [
        "# Calculate Ichimoku Cloud\n",
        "ichimoku = ichimoku_cloud(df)\n",
        "\n",
        "# Print the Ichimoku Cloud data\n",
        "print(ichimoku)"
      ]
    },
    {
      "cell_type": "code",
      "execution_count": null,
      "metadata": {
        "id": "gEElYfkqqFHG"
      },
      "outputs": [],
      "source": [
        "def ichimoku_entry_signals(ichimoku):\n",
        "    # Condition 1 for long entry: Check if the candle opens and closes above the cloud\n",
        "    above_cloud_long = (ichimoku['Close'] > ichimoku['Senkou Span A']) & (ichimoku['Close'] > ichimoku['Senkou Span B'])\n",
        "\n",
        "    # Condition 2 for long entry: Ensure Tenkan-Sen is above Kijun-Sen\n",
        "    tenkan_above_kijun_long = ichimoku['Tenkan-Sen'] > ichimoku['Kijun-Sen']\n",
        "\n",
        "    # Condition 3 for long entry: Check if OHLC values are all above Tenkan-Sen and Kijun-Sen\n",
        "    ohlc_above_sen_long = (ichimoku['Open'] > ichimoku['Tenkan-Sen']) & \\\n",
        "                     (ichimoku['High'] > ichimoku['Tenkan-Sen']) & \\\n",
        "                     (ichimoku['Low'] > ichimoku['Tenkan-Sen']) & \\\n",
        "                     (ichimoku['Close'] > ichimoku['Tenkan-Sen']) & \\\n",
        "                     (ichimoku['Open'] > ichimoku['Kijun-Sen']) & \\\n",
        "                     (ichimoku['High'] > ichimoku['Kijun-Sen']) & \\\n",
        "                     (ichimoku['Low'] > ichimoku['Kijun-Sen']) & \\\n",
        "                     (ichimoku['Close'] > ichimoku['Kijun-Sen'])\n",
        "\n",
        "    # Condition 4 for long entry: Check if future cloud is positive (long)\n",
        "    future_cloud_positive_long = ichimoku['Senkou Span A'] > ichimoku['Senkou Span B']\n",
        "\n",
        "    # Combine all conditions for long entry\n",
        "    entry_signal_long = above_cloud_long & tenkan_above_kijun_long & ohlc_above_sen_long & future_cloud_positive_long\n",
        "\n",
        "    # Condition 1 for short entry: Check if the candle opens and closes below the cloud\n",
        "    below_cloud_short = (ichimoku['Close'] < ichimoku['Senkou Span A']) & (ichimoku['Close'] < ichimoku['Senkou Span B'])\n",
        "\n",
        "    # Condition 2 for short entry: Ensure Tenkan-Sen is below Kijun-Sen\n",
        "    tenkan_below_kijun_short = ichimoku['Tenkan-Sen'] < ichimoku['Kijun-Sen']\n",
        "\n",
        "    # Condition 3 for short entry: Check if OHLC values are all below Tenkan-Sen and Kijun-Sen\n",
        "    ohlc_below_sen_short = (ichimoku['Open'] < ichimoku['Tenkan-Sen']) & \\\n",
        "                     (ichimoku['High'] < ichimoku['Tenkan-Sen']) & \\\n",
        "                     (ichimoku['Low'] < ichimoku['Tenkan-Sen']) & \\\n",
        "                     (ichimoku['Close'] < ichimoku['Tenkan-Sen']) & \\\n",
        "                     (ichimoku['Open'] < ichimoku['Kijun-Sen']) & \\\n",
        "                     (ichimoku['High'] < ichimoku['Kijun-Sen']) & \\\n",
        "                     (ichimoku['Low'] < ichimoku['Kijun-Sen']) & \\\n",
        "                     (ichimoku['Close'] < ichimoku['Kijun-Sen'])\n",
        "\n",
        "    # Condition 4 for short entry: Check if future cloud is negative (short)\n",
        "    future_cloud_negative_short = ichimoku['Senkou Span A'] < ichimoku['Senkou Span B']\n",
        "\n",
        "    # Combine all conditions for short entry\n",
        "    entry_signal_short = below_cloud_short & tenkan_below_kijun_short & ohlc_below_sen_short & future_cloud_negative_short\n",
        "\n",
        "    # Combine long and short entry signals\n",
        "    entry_signals = entry_signal_long.astype(int) - entry_signal_short.astype(int)\n",
        "\n",
        "    return entry_signals\n",
        "\n"
      ]
    },
    {
      "cell_type": "markdown",
      "metadata": {
        "id": "MUJLsS_FqFHH"
      },
      "source": [
        "---"
      ]
    },
    {
      "cell_type": "code",
      "execution_count": null,
      "metadata": {
        "id": "Zge2P2NPqFHd"
      },
      "outputs": [],
      "source": [
        "entry_signals = ichimoku_entry_signal(ichimoku)"
      ]
    },
    {
      "cell_type": "code",
      "execution_count": null,
      "metadata": {
        "id": "_JYUdX5jqFHd"
      },
      "outputs": [],
      "source": [
        "# Initialize Portfolio object with entry signals\n",
        "portfolio = vbt.Portfolio.from_signals(\n",
        "    close=ichimoku['Close'],\n",
        "    entries=entry_signals,\n",
        "    # Add exits parameter if exit signals are defined\n",
        ")"
      ]
    },
    {
      "cell_type": "code",
      "execution_count": null,
      "metadata": {
        "id": "QqF9o7gPqFHe"
      },
      "outputs": [],
      "source": [
        "# Calculate trade statistics\n",
        "trades = portfolio.trades"
      ]
    },
    {
      "cell_type": "code",
      "execution_count": null,
      "metadata": {
        "id": "vaercSFWqFHe"
      },
      "outputs": [],
      "source": [
        "# Step 5: Evaluate Results\n",
        "total_trades = trades.count()\n",
        "winning_trades = trades.winning.count()\n",
        "losing_trades = trades.losing.count()\n",
        "# Calculate other performance metrics...\n"
      ]
    },
    {
      "cell_type": "code",
      "execution_count": null,
      "metadata": {
        "id": "alNAXNJKqFHf",
        "outputId": "671aaf50-fa7d-4281-f630-17aef6875909"
      },
      "outputs": [
        {
          "name": "stdout",
          "output_type": "stream",
          "text": [
            "Trade Statistics:\n",
            "Total Trades: 1\n",
            "Winning Trades: 0\n",
            "Losing Trades: 1\n"
          ]
        }
      ],
      "source": [
        "# Print trade statistics\n",
        "print(\"Trade Statistics:\")\n",
        "print(\"Total Trades:\", total_trades)\n",
        "print(\"Winning Trades:\", winning_trades)\n",
        "print(\"Losing Trades:\", losing_trades)"
      ]
    },
    {
      "cell_type": "code",
      "execution_count": null,
      "metadata": {
        "colab": {
          "referenced_widgets": [
            "a2ce40aeee554cab8c4569fd8dde7e76"
          ]
        },
        "id": "_dJzsLf8qFHf",
        "outputId": "45eaf3f1-e5ab-4083-de92-822cfda2d8df"
      },
      "outputs": [
        {
          "data": {
            "application/vnd.jupyter.widget-view+json": {
              "model_id": "a2ce40aeee554cab8c4569fd8dde7e76",
              "version_major": 2,
              "version_minor": 0
            },
            "text/plain": [
              "FigureWidget({\n",
              "    'data': [{'legendgroup': '0',\n",
              "              'line': {'color': '#1f77b4'},\n",
              "              'name': 'Close',\n",
              "              'showlegend': True,\n",
              "              'type': 'scatter',\n",
              "              'uid': 'fa7d151b-5ed6-4d0d-99de-56cde33a287a',\n",
              "              'x': array([datetime.datetime(2024, 4, 1, 9, 30),\n",
              "                          datetime.datetime(2024, 4, 1, 9, 45),\n",
              "                          datetime.datetime(2024, 4, 1, 10, 0), ...,\n",
              "                          datetime.datetime(2024, 5, 1, 12, 30),\n",
              "                          datetime.datetime(2024, 5, 1, 12, 45),\n",
              "                          datetime.datetime(2024, 5, 1, 13, 0)], dtype=object),\n",
              "              'xaxis': 'x',\n",
              "              'y': array([262.80599976, 268.58401489, 266.8999939 , ..., 205.03999329,\n",
              "                          205.65499878, 205.72000122]),\n",
              "              'yaxis': 'y'},\n",
              "             {'customdata': array([[0.        , 0.45113123, 0.        ]]),\n",
              "              'hovertemplate': ('Order Id: %{customdata[0]}<br>' ... '<br>Fees: %{customdata[2]:.6f}'),\n",
              "              'legendgroup': '1',\n",
              "              'marker': {'color': '#37B13F',\n",
              "                         'line': {'color': 'rgb(38,123,44)', 'width': 1},\n",
              "                         'size': 8,\n",
              "                         'symbol': 'triangle-up'},\n",
              "              'mode': 'markers',\n",
              "              'name': 'Buy',\n",
              "              'type': 'scatter',\n",
              "              'uid': '2e21ad74-5f5e-417d-a25d-634fc367edee',\n",
              "              'x': array([datetime.datetime(2024, 4, 22, 12, 30)], dtype=object),\n",
              "              'xaxis': 'x',\n",
              "              'y': array([221.66499329]),\n",
              "              'yaxis': 'y'},\n",
              "             {'customdata': array([[ 0.        ,  0.        , -7.19328381, -0.07193284]]),\n",
              "              'hovertemplate': ('Exit Trade Id: %{customdata[0]' ... 'r>Return: %{customdata[3]:.2%}'),\n",
              "              'legendgroup': '2',\n",
              "              'marker': {'color': '#FFAA00',\n",
              "                         'line': {'color': 'rgb(178,118,0)', 'width': 1},\n",
              "                         'opacity': array([0.9]),\n",
              "                         'size': array([7]),\n",
              "                         'symbol': 'circle'},\n",
              "              'mode': 'markers',\n",
              "              'name': 'Open',\n",
              "              'type': 'scatter',\n",
              "              'uid': '1d761ec5-b469-4339-8b71-6b9756bf88ac',\n",
              "              'x': array([datetime.datetime(2024, 5, 1, 13, 0)], dtype=object),\n",
              "              'xaxis': 'x2',\n",
              "              'y': array([-0.07193284]),\n",
              "              'yaxis': 'y2'},\n",
              "             {'legendgroup': '3',\n",
              "              'line': {'color': '#7f7f7f'},\n",
              "              'name': 'Benchmark',\n",
              "              'showlegend': True,\n",
              "              'type': 'scatter',\n",
              "              'uid': 'e2a8557e-9023-47a6-b3f2-753e508382d8',\n",
              "              'x': array([datetime.datetime(2024, 4, 1, 9, 30),\n",
              "                          datetime.datetime(2024, 4, 1, 9, 45),\n",
              "                          datetime.datetime(2024, 4, 1, 10, 0), ...,\n",
              "                          datetime.datetime(2024, 5, 1, 12, 30),\n",
              "                          datetime.datetime(2024, 5, 1, 12, 45),\n",
              "                          datetime.datetime(2024, 5, 1, 13, 0)], dtype=object),\n",
              "              'xaxis': 'x3',\n",
              "              'y': array([1.        , 1.02198586, 1.01557801, ..., 0.78019525, 0.7825354 ,\n",
              "                          0.78278274]),\n",
              "              'yaxis': 'y3'},\n",
              "             {'hoverinfo': 'skip',\n",
              "              'legendgroup': '4',\n",
              "              'line': {'color': 'rgba(0, 0, 0, 0)', 'width': 0},\n",
              "              'opacity': 0,\n",
              "              'showlegend': False,\n",
              "              'type': 'scatter',\n",
              "              'uid': '51b38326-0ff8-483d-9940-e8d2e933377b',\n",
              "              'x': array([datetime.datetime(2024, 4, 1, 9, 30),\n",
              "                          datetime.datetime(2024, 4, 1, 9, 45),\n",
              "                          datetime.datetime(2024, 4, 1, 10, 0), ...,\n",
              "                          datetime.datetime(2024, 5, 1, 12, 30),\n",
              "                          datetime.datetime(2024, 5, 1, 12, 45),\n",
              "                          datetime.datetime(2024, 5, 1, 13, 0)], dtype=object),\n",
              "              'xaxis': 'x3',\n",
              "              'y': array([1, 1, 1, ..., 1, 1, 1]),\n",
              "              'yaxis': 'y3'},\n",
              "             {'connectgaps': False,\n",
              "              'fill': 'tonexty',\n",
              "              'fillcolor': 'rgba(0, 128, 0, 0.3)',\n",
              "              'hoverinfo': 'skip',\n",
              "              'legendgroup': '4',\n",
              "              'line': {'color': 'rgba(0, 0, 0, 0)', 'width': 0},\n",
              "              'opacity': 0,\n",
              "              'showlegend': False,\n",
              "              'type': 'scatter',\n",
              "              'uid': '214b5d75-cdd5-4313-b8b1-ebd44d6a0d6d',\n",
              "              'x': array([datetime.datetime(2024, 4, 1, 9, 30),\n",
              "                          datetime.datetime(2024, 4, 1, 9, 45),\n",
              "                          datetime.datetime(2024, 4, 1, 10, 0), ...,\n",
              "                          datetime.datetime(2024, 5, 1, 12, 30),\n",
              "                          datetime.datetime(2024, 5, 1, 12, 45),\n",
              "                          datetime.datetime(2024, 5, 1, 13, 0)], dtype=object),\n",
              "              'xaxis': 'x3',\n",
              "              'y': array([1., 1., 1., ..., 1., 1., 1.]),\n",
              "              'yaxis': 'y3'},\n",
              "             {'hoverinfo': 'skip',\n",
              "              'legendgroup': '4',\n",
              "              'line': {'color': 'rgba(0, 0, 0, 0)', 'width': 0},\n",
              "              'opacity': 0,\n",
              "              'showlegend': False,\n",
              "              'type': 'scatter',\n",
              "              'uid': '49c298f6-4872-4694-84fe-6b39693fa2f0',\n",
              "              'x': array([datetime.datetime(2024, 4, 1, 9, 30),\n",
              "                          datetime.datetime(2024, 4, 1, 9, 45),\n",
              "                          datetime.datetime(2024, 4, 1, 10, 0), ...,\n",
              "                          datetime.datetime(2024, 5, 1, 12, 30),\n",
              "                          datetime.datetime(2024, 5, 1, 12, 45),\n",
              "                          datetime.datetime(2024, 5, 1, 13, 0)], dtype=object),\n",
              "              'xaxis': 'x3',\n",
              "              'y': array([1, 1, 1, ..., 1, 1, 1]),\n",
              "              'yaxis': 'y3'},\n",
              "             {'connectgaps': False,\n",
              "              'fill': 'tonexty',\n",
              "              'fillcolor': 'rgba(255, 0, 0, 0.3)',\n",
              "              'hoverinfo': 'skip',\n",
              "              'legendgroup': '4',\n",
              "              'line': {'color': 'rgba(0, 0, 0, 0)', 'width': 0},\n",
              "              'opacity': 0,\n",
              "              'showlegend': False,\n",
              "              'type': 'scatter',\n",
              "              'uid': '7e3f06ad-a33f-4d0d-97a6-8a5ea82c970e',\n",
              "              'x': array([datetime.datetime(2024, 4, 1, 9, 30),\n",
              "                          datetime.datetime(2024, 4, 1, 9, 45),\n",
              "                          datetime.datetime(2024, 4, 1, 10, 0), ...,\n",
              "                          datetime.datetime(2024, 5, 1, 12, 30),\n",
              "                          datetime.datetime(2024, 5, 1, 12, 45),\n",
              "                          datetime.datetime(2024, 5, 1, 13, 0)], dtype=object),\n",
              "              'xaxis': 'x3',\n",
              "              'y': array([1.        , 1.        , 1.        , ..., 0.92499943, 0.92777392,\n",
              "                          0.92806716]),\n",
              "              'yaxis': 'y3'},\n",
              "             {'legendgroup': '5',\n",
              "              'line': {'color': '#9467bd'},\n",
              "              'name': 'Value',\n",
              "              'showlegend': True,\n",
              "              'type': 'scatter',\n",
              "              'uid': 'c598b948-9f43-490c-8c17-1c8212a5e701',\n",
              "              'x': array([datetime.datetime(2024, 4, 1, 9, 30),\n",
              "                          datetime.datetime(2024, 4, 1, 9, 45),\n",
              "                          datetime.datetime(2024, 4, 1, 10, 0), ...,\n",
              "                          datetime.datetime(2024, 5, 1, 12, 30),\n",
              "                          datetime.datetime(2024, 5, 1, 12, 45),\n",
              "                          datetime.datetime(2024, 5, 1, 13, 0)], dtype=object),\n",
              "              'xaxis': 'x3',\n",
              "              'y': array([1.        , 1.        , 1.        , ..., 0.92499943, 0.92777392,\n",
              "                          0.92806716]),\n",
              "              'yaxis': 'y3'},\n",
              "             {'hoverinfo': 'skip',\n",
              "              'legendgroup': '4',\n",
              "              'line': {'color': 'rgba(0, 0, 0, 0)', 'width': 0},\n",
              "              'opacity': 0.0,\n",
              "              'showlegend': False,\n",
              "              'type': 'scatter',\n",
              "              'uid': '64d867d5-669b-4a2f-9efe-18506f5dfdd7',\n",
              "              'x': array([datetime.datetime(2024, 4, 1, 9, 30),\n",
              "                          datetime.datetime(2024, 4, 1, 9, 45),\n",
              "                          datetime.datetime(2024, 4, 1, 10, 0), ...,\n",
              "                          datetime.datetime(2024, 5, 1, 12, 30),\n",
              "                          datetime.datetime(2024, 5, 1, 12, 45),\n",
              "                          datetime.datetime(2024, 5, 1, 13, 0)], dtype=object),\n",
              "              'xaxis': 'x3',\n",
              "              'y': array([1, 1, 1, ..., 1, 1, 1]),\n",
              "              'yaxis': 'y3'}],\n",
              "    'layout': {'annotations': [{'font': {'size': 16},\n",
              "                                'showarrow': False,\n",
              "                                'text': 'Orders',\n",
              "                                'x': 0.5,\n",
              "                                'xanchor': 'center',\n",
              "                                'xref': 'paper',\n",
              "                                'y': 1.0,\n",
              "                                'yanchor': 'bottom',\n",
              "                                'yref': 'paper'},\n",
              "                               {'font': {'size': 16},\n",
              "                                'showarrow': False,\n",
              "                                'text': 'Trade PnL',\n",
              "                                'x': 0.5,\n",
              "                                'xanchor': 'center',\n",
              "                                'xref': 'paper',\n",
              "                                'y': 0.6527777777777777,\n",
              "                                'yanchor': 'bottom',\n",
              "                                'yref': 'paper'},\n",
              "                               {'font': {'size': 16},\n",
              "                                'showarrow': False,\n",
              "                                'text': 'Cumulative Returns',\n",
              "                                'x': 0.5,\n",
              "                                'xanchor': 'center',\n",
              "                                'xref': 'paper',\n",
              "                                'y': 0.3055555555555555,\n",
              "                                'yanchor': 'bottom',\n",
              "                                'yref': 'paper'}],\n",
              "               'height': 960,\n",
              "               'legend': {'orientation': 'h',\n",
              "                          'traceorder': 'normal',\n",
              "                          'x': 1,\n",
              "                          'xanchor': 'right',\n",
              "                          'y': 1.0416666666666667,\n",
              "                          'yanchor': 'bottom'},\n",
              "               'margin': {'b': 30, 'l': 30, 'r': 30, 't': 30},\n",
              "               'shapes': [{'line': {'color': 'gray', 'dash': 'dash'},\n",
              "                           'type': 'line',\n",
              "                           'x0': 0.0,\n",
              "                           'x1': 1.0,\n",
              "                           'xref': 'paper',\n",
              "                           'y0': 0,\n",
              "                           'y1': 0,\n",
              "                           'yref': 'y2'},\n",
              "                          {'line': {'color': 'gray', 'dash': 'dash'},\n",
              "                           'type': 'line',\n",
              "                           'x0': 0.0,\n",
              "                           'x1': 1.0,\n",
              "                           'xref': 'paper',\n",
              "                           'y0': 1,\n",
              "                           'y1': 1,\n",
              "                           'yref': 'y3'}],\n",
              "               'showlegend': True,\n",
              "               'template': '...',\n",
              "               'width': 750,\n",
              "               'xaxis': {'anchor': 'y', 'domain': [0.0, 1.0], 'matches': 'x3', 'showticklabels': False},\n",
              "               'xaxis2': {'anchor': 'y2', 'domain': [0.0, 1.0], 'matches': 'x3', 'showticklabels': False},\n",
              "               'xaxis3': {'anchor': 'y3', 'domain': [0.0, 1.0], 'title': {'text': 'Index'}},\n",
              "               'yaxis': {'anchor': 'x', 'domain': [0.6944444444444444, 1.0], 'title': {'text': 'Price'}},\n",
              "               'yaxis2': {'anchor': 'x2',\n",
              "                          'domain': [0.3472222222222222, 0.6527777777777777],\n",
              "                          'tickformat': '.2%',\n",
              "                          'title': {'text': 'Trade PnL'}},\n",
              "               'yaxis3': {'anchor': 'x3', 'domain': [0.0, 0.3055555555555555], 'title': {'text': 'Cumulative returns'}}}\n",
              "})"
            ]
          },
          "execution_count": 78,
          "metadata": {},
          "output_type": "execute_result"
        }
      ],
      "source": [
        "# Visualize performance (optional)\n",
        "portfolio.plot()"
      ]
    },
    {
      "cell_type": "code",
      "execution_count": null,
      "metadata": {
        "id": "RmedLASuqFHg",
        "outputId": "45015499-7856-4f7b-a915-47becd54b5f8"
      },
      "outputs": [
        {
          "name": "stderr",
          "output_type": "stream",
          "text": [
            "/home/edu/Documents/trading/Ichimoku/ichi/lib/python3.11/site-packages/vectorbt/generic/stats_builder.py:396: UserWarning:\n",
            "\n",
            "Metric 'sharpe_ratio' requires frequency to be set\n",
            "\n",
            "/home/edu/Documents/trading/Ichimoku/ichi/lib/python3.11/site-packages/vectorbt/generic/stats_builder.py:396: UserWarning:\n",
            "\n",
            "Metric 'calmar_ratio' requires frequency to be set\n",
            "\n",
            "/home/edu/Documents/trading/Ichimoku/ichi/lib/python3.11/site-packages/vectorbt/generic/stats_builder.py:396: UserWarning:\n",
            "\n",
            "Metric 'omega_ratio' requires frequency to be set\n",
            "\n",
            "/home/edu/Documents/trading/Ichimoku/ichi/lib/python3.11/site-packages/vectorbt/generic/stats_builder.py:396: UserWarning:\n",
            "\n",
            "Metric 'sortino_ratio' requires frequency to be set\n",
            "\n"
          ]
        },
        {
          "data": {
            "text/plain": [
              "Start                         2024-04-01 09:30:00\n",
              "End                           2024-05-01 13:00:00\n",
              "Period                                        587\n",
              "Start Value                                 100.0\n",
              "End Value                               92.806716\n",
              "Total Return [%]                        -7.193284\n",
              "Benchmark Return [%]                   -21.721726\n",
              "Max Gross Exposure [%]                      100.0\n",
              "Total Fees Paid                               0.0\n",
              "Max Drawdown [%]                        15.348433\n",
              "Max Drawdown Duration                       153.0\n",
              "Total Trades                                    1\n",
              "Total Closed Trades                             0\n",
              "Total Open Trades                               1\n",
              "Open Trade PnL                          -7.193284\n",
              "Win Rate [%]                                  NaN\n",
              "Best Trade [%]                                NaN\n",
              "Worst Trade [%]                               NaN\n",
              "Avg Winning Trade [%]                         NaN\n",
              "Avg Losing Trade [%]                          NaN\n",
              "Avg Winning Trade Duration                    NaN\n",
              "Avg Losing Trade Duration                     NaN\n",
              "Profit Factor                                 NaN\n",
              "Expectancy                                    NaN\n",
              "dtype: object"
            ]
          },
          "execution_count": 79,
          "metadata": {},
          "output_type": "execute_result"
        }
      ],
      "source": [
        "portfolio.stats()"
      ]
    }
  ],
  "metadata": {
    "kernelspec": {
      "display_name": "ichi",
      "language": "python",
      "name": "python3"
    },
    "language_info": {
      "codemirror_mode": {
        "name": "ipython",
        "version": 3
      },
      "file_extension": ".py",
      "mimetype": "text/x-python",
      "name": "python",
      "nbconvert_exporter": "python",
      "pygments_lexer": "ipython3",
      "version": "3.11.5"
    },
    "colab": {
      "provenance": [],
      "include_colab_link": true
    }
  },
  "nbformat": 4,
  "nbformat_minor": 0
}