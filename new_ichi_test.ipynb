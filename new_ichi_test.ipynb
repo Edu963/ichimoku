{
  "cells": [
    {
      "cell_type": "markdown",
      "metadata": {
        "id": "view-in-github",
        "colab_type": "text"
      },
      "source": [
        "<a href=\"https://colab.research.google.com/github/Edu963/ichimoku/blob/main/new_ichi_test.ipynb\" target=\"_parent\"><img src=\"https://colab.research.google.com/assets/colab-badge.svg\" alt=\"Open In Colab\"/></a>"
      ]
    },
    {
      "cell_type": "code",
      "source": [
        "!pip install vectorbt"
      ],
      "metadata": {
        "colab": {
          "base_uri": "https://localhost:8080/",
          "height": 1000
        },
        "id": "-cxDDWqSrOdB",
        "outputId": "4e962df7-1b87-48a6-ae66-e4a3c85039b0"
      },
      "execution_count": 2,
      "outputs": [
        {
          "output_type": "stream",
          "name": "stdout",
          "text": [
            "Collecting vectorbt\n",
            "  Downloading vectorbt-0.26.1-py3-none-any.whl (527 kB)\n",
            "\u001b[?25l     \u001b[90m━━━━━━━━━━━━━━━━━━━━━━━━━━━━━━━━━━━━━━━━\u001b[0m \u001b[32m0.0/527.3 kB\u001b[0m \u001b[31m?\u001b[0m eta \u001b[36m-:--:--\u001b[0m\r\u001b[2K     \u001b[91m━━━━━━━━━━━━━━━━━━━━━━━━━━━━━\u001b[0m\u001b[91m╸\u001b[0m\u001b[90m━━━━━━━━━━\u001b[0m \u001b[32m389.1/527.3 kB\u001b[0m \u001b[31m11.6 MB/s\u001b[0m eta \u001b[36m0:00:01\u001b[0m\r\u001b[2K     \u001b[90m━━━━━━━━━━━━━━━━━━━━━━━━━━━━━━━━━━━━━━━━\u001b[0m \u001b[32m527.3/527.3 kB\u001b[0m \u001b[31m10.2 MB/s\u001b[0m eta \u001b[36m0:00:00\u001b[0m\n",
            "\u001b[?25hRequirement already satisfied: numpy>=1.16.5 in /usr/local/lib/python3.10/dist-packages (from vectorbt) (1.25.2)\n",
            "Requirement already satisfied: pandas in /usr/local/lib/python3.10/dist-packages (from vectorbt) (2.0.3)\n",
            "Requirement already satisfied: scipy in /usr/local/lib/python3.10/dist-packages (from vectorbt) (1.11.4)\n",
            "Requirement already satisfied: matplotlib in /usr/local/lib/python3.10/dist-packages (from vectorbt) (3.7.1)\n",
            "Requirement already satisfied: plotly>=4.12.0 in /usr/local/lib/python3.10/dist-packages (from vectorbt) (5.15.0)\n",
            "Requirement already satisfied: ipywidgets>=7.0.0 in /usr/local/lib/python3.10/dist-packages (from vectorbt) (7.7.1)\n",
            "Collecting dill (from vectorbt)\n",
            "  Downloading dill-0.3.8-py3-none-any.whl (116 kB)\n",
            "\u001b[2K     \u001b[90m━━━━━━━━━━━━━━━━━━━━━━━━━━━━━━━━━━━━━━━━\u001b[0m \u001b[32m116.3/116.3 kB\u001b[0m \u001b[31m13.9 MB/s\u001b[0m eta \u001b[36m0:00:00\u001b[0m\n",
            "\u001b[?25hRequirement already satisfied: tqdm in /usr/local/lib/python3.10/dist-packages (from vectorbt) (4.66.2)\n",
            "Collecting dateparser (from vectorbt)\n",
            "  Downloading dateparser-1.2.0-py2.py3-none-any.whl (294 kB)\n",
            "\u001b[2K     \u001b[90m━━━━━━━━━━━━━━━━━━━━━━━━━━━━━━━━━━━━━━━━\u001b[0m \u001b[32m295.0/295.0 kB\u001b[0m \u001b[31m28.0 MB/s\u001b[0m eta \u001b[36m0:00:00\u001b[0m\n",
            "\u001b[?25hRequirement already satisfied: imageio in /usr/local/lib/python3.10/dist-packages (from vectorbt) (2.31.6)\n",
            "Requirement already satisfied: scikit-learn in /usr/local/lib/python3.10/dist-packages (from vectorbt) (1.2.2)\n",
            "Collecting schedule (from vectorbt)\n",
            "  Downloading schedule-1.2.1-py2.py3-none-any.whl (11 kB)\n",
            "Requirement already satisfied: requests in /usr/local/lib/python3.10/dist-packages (from vectorbt) (2.31.0)\n",
            "Requirement already satisfied: pytz in /usr/local/lib/python3.10/dist-packages (from vectorbt) (2023.4)\n",
            "Collecting mypy-extensions (from vectorbt)\n",
            "  Downloading mypy_extensions-1.0.0-py3-none-any.whl (4.7 kB)\n",
            "Collecting numba<0.57.0,>=0.56.0 (from vectorbt)\n",
            "  Downloading numba-0.56.4-cp310-cp310-manylinux2014_x86_64.manylinux_2_17_x86_64.whl (3.5 MB)\n",
            "\u001b[2K     \u001b[90m━━━━━━━━━━━━━━━━━━━━━━━━━━━━━━━━━━━━━━━━\u001b[0m \u001b[32m3.5/3.5 MB\u001b[0m \u001b[31m61.1 MB/s\u001b[0m eta \u001b[36m0:00:00\u001b[0m\n",
            "\u001b[?25hRequirement already satisfied: ipykernel>=4.5.1 in /usr/local/lib/python3.10/dist-packages (from ipywidgets>=7.0.0->vectorbt) (5.5.6)\n",
            "Requirement already satisfied: ipython-genutils~=0.2.0 in /usr/local/lib/python3.10/dist-packages (from ipywidgets>=7.0.0->vectorbt) (0.2.0)\n",
            "Requirement already satisfied: traitlets>=4.3.1 in /usr/local/lib/python3.10/dist-packages (from ipywidgets>=7.0.0->vectorbt) (5.7.1)\n",
            "Requirement already satisfied: widgetsnbextension~=3.6.0 in /usr/local/lib/python3.10/dist-packages (from ipywidgets>=7.0.0->vectorbt) (3.6.6)\n",
            "Requirement already satisfied: ipython>=4.0.0 in /usr/local/lib/python3.10/dist-packages (from ipywidgets>=7.0.0->vectorbt) (7.34.0)\n",
            "Requirement already satisfied: jupyterlab-widgets>=1.0.0 in /usr/local/lib/python3.10/dist-packages (from ipywidgets>=7.0.0->vectorbt) (3.0.10)\n",
            "Collecting llvmlite<0.40,>=0.39.0dev0 (from numba<0.57.0,>=0.56.0->vectorbt)\n",
            "  Downloading llvmlite-0.39.1-cp310-cp310-manylinux_2_17_x86_64.manylinux2014_x86_64.whl (34.6 MB)\n",
            "\u001b[2K     \u001b[90m━━━━━━━━━━━━━━━━━━━━━━━━━━━━━━━━━━━━━━━━\u001b[0m \u001b[32m34.6/34.6 MB\u001b[0m \u001b[31m38.8 MB/s\u001b[0m eta \u001b[36m0:00:00\u001b[0m\n",
            "\u001b[?25hCollecting numpy>=1.16.5 (from vectorbt)\n",
            "  Downloading numpy-1.23.5-cp310-cp310-manylinux_2_17_x86_64.manylinux2014_x86_64.whl (17.1 MB)\n",
            "\u001b[2K     \u001b[90m━━━━━━━━━━━━━━━━━━━━━━━━━━━━━━━━━━━━━━━━\u001b[0m \u001b[32m17.1/17.1 MB\u001b[0m \u001b[31m63.6 MB/s\u001b[0m eta \u001b[36m0:00:00\u001b[0m\n",
            "\u001b[?25hRequirement already satisfied: setuptools in /usr/local/lib/python3.10/dist-packages (from numba<0.57.0,>=0.56.0->vectorbt) (67.7.2)\n",
            "Requirement already satisfied: tenacity>=6.2.0 in /usr/local/lib/python3.10/dist-packages (from plotly>=4.12.0->vectorbt) (8.2.3)\n",
            "Requirement already satisfied: packaging in /usr/local/lib/python3.10/dist-packages (from plotly>=4.12.0->vectorbt) (24.0)\n",
            "Requirement already satisfied: python-dateutil in /usr/local/lib/python3.10/dist-packages (from dateparser->vectorbt) (2.8.2)\n",
            "Requirement already satisfied: regex!=2019.02.19,!=2021.8.27 in /usr/local/lib/python3.10/dist-packages (from dateparser->vectorbt) (2023.12.25)\n",
            "Requirement already satisfied: tzlocal in /usr/local/lib/python3.10/dist-packages (from dateparser->vectorbt) (5.2)\n",
            "Requirement already satisfied: pillow<10.1.0,>=8.3.2 in /usr/local/lib/python3.10/dist-packages (from imageio->vectorbt) (9.4.0)\n",
            "Requirement already satisfied: contourpy>=1.0.1 in /usr/local/lib/python3.10/dist-packages (from matplotlib->vectorbt) (1.2.1)\n",
            "Requirement already satisfied: cycler>=0.10 in /usr/local/lib/python3.10/dist-packages (from matplotlib->vectorbt) (0.12.1)\n",
            "Requirement already satisfied: fonttools>=4.22.0 in /usr/local/lib/python3.10/dist-packages (from matplotlib->vectorbt) (4.51.0)\n",
            "Requirement already satisfied: kiwisolver>=1.0.1 in /usr/local/lib/python3.10/dist-packages (from matplotlib->vectorbt) (1.4.5)\n",
            "Requirement already satisfied: pyparsing>=2.3.1 in /usr/local/lib/python3.10/dist-packages (from matplotlib->vectorbt) (3.1.2)\n",
            "Requirement already satisfied: tzdata>=2022.1 in /usr/local/lib/python3.10/dist-packages (from pandas->vectorbt) (2024.1)\n",
            "Requirement already satisfied: charset-normalizer<4,>=2 in /usr/local/lib/python3.10/dist-packages (from requests->vectorbt) (3.3.2)\n",
            "Requirement already satisfied: idna<4,>=2.5 in /usr/local/lib/python3.10/dist-packages (from requests->vectorbt) (3.7)\n",
            "Requirement already satisfied: urllib3<3,>=1.21.1 in /usr/local/lib/python3.10/dist-packages (from requests->vectorbt) (2.0.7)\n",
            "Requirement already satisfied: certifi>=2017.4.17 in /usr/local/lib/python3.10/dist-packages (from requests->vectorbt) (2024.2.2)\n",
            "Requirement already satisfied: joblib>=1.1.1 in /usr/local/lib/python3.10/dist-packages (from scikit-learn->vectorbt) (1.4.0)\n",
            "Requirement already satisfied: threadpoolctl>=2.0.0 in /usr/local/lib/python3.10/dist-packages (from scikit-learn->vectorbt) (3.4.0)\n",
            "Requirement already satisfied: jupyter-client in /usr/local/lib/python3.10/dist-packages (from ipykernel>=4.5.1->ipywidgets>=7.0.0->vectorbt) (6.1.12)\n",
            "Requirement already satisfied: tornado>=4.2 in /usr/local/lib/python3.10/dist-packages (from ipykernel>=4.5.1->ipywidgets>=7.0.0->vectorbt) (6.3.3)\n",
            "Collecting jedi>=0.16 (from ipython>=4.0.0->ipywidgets>=7.0.0->vectorbt)\n",
            "  Downloading jedi-0.19.1-py2.py3-none-any.whl (1.6 MB)\n",
            "\u001b[2K     \u001b[90m━━━━━━━━━━━━━━━━━━━━━━━━━━━━━━━━━━━━━━━━\u001b[0m \u001b[32m1.6/1.6 MB\u001b[0m \u001b[31m61.2 MB/s\u001b[0m eta \u001b[36m0:00:00\u001b[0m\n",
            "\u001b[?25hRequirement already satisfied: decorator in /usr/local/lib/python3.10/dist-packages (from ipython>=4.0.0->ipywidgets>=7.0.0->vectorbt) (4.4.2)\n",
            "Requirement already satisfied: pickleshare in /usr/local/lib/python3.10/dist-packages (from ipython>=4.0.0->ipywidgets>=7.0.0->vectorbt) (0.7.5)\n",
            "Requirement already satisfied: prompt-toolkit!=3.0.0,!=3.0.1,<3.1.0,>=2.0.0 in /usr/local/lib/python3.10/dist-packages (from ipython>=4.0.0->ipywidgets>=7.0.0->vectorbt) (3.0.43)\n",
            "Requirement already satisfied: pygments in /usr/local/lib/python3.10/dist-packages (from ipython>=4.0.0->ipywidgets>=7.0.0->vectorbt) (2.16.1)\n",
            "Requirement already satisfied: backcall in /usr/local/lib/python3.10/dist-packages (from ipython>=4.0.0->ipywidgets>=7.0.0->vectorbt) (0.2.0)\n",
            "Requirement already satisfied: matplotlib-inline in /usr/local/lib/python3.10/dist-packages (from ipython>=4.0.0->ipywidgets>=7.0.0->vectorbt) (0.1.7)\n",
            "Requirement already satisfied: pexpect>4.3 in /usr/local/lib/python3.10/dist-packages (from ipython>=4.0.0->ipywidgets>=7.0.0->vectorbt) (4.9.0)\n",
            "Requirement already satisfied: six>=1.5 in /usr/local/lib/python3.10/dist-packages (from python-dateutil->dateparser->vectorbt) (1.16.0)\n",
            "Requirement already satisfied: notebook>=4.4.1 in /usr/local/lib/python3.10/dist-packages (from widgetsnbextension~=3.6.0->ipywidgets>=7.0.0->vectorbt) (6.5.5)\n",
            "Requirement already satisfied: parso<0.9.0,>=0.8.3 in /usr/local/lib/python3.10/dist-packages (from jedi>=0.16->ipython>=4.0.0->ipywidgets>=7.0.0->vectorbt) (0.8.4)\n",
            "Requirement already satisfied: jinja2 in /usr/local/lib/python3.10/dist-packages (from notebook>=4.4.1->widgetsnbextension~=3.6.0->ipywidgets>=7.0.0->vectorbt) (3.1.3)\n",
            "Requirement already satisfied: pyzmq<25,>=17 in /usr/local/lib/python3.10/dist-packages (from notebook>=4.4.1->widgetsnbextension~=3.6.0->ipywidgets>=7.0.0->vectorbt) (24.0.1)\n",
            "Requirement already satisfied: argon2-cffi in /usr/local/lib/python3.10/dist-packages (from notebook>=4.4.1->widgetsnbextension~=3.6.0->ipywidgets>=7.0.0->vectorbt) (23.1.0)\n",
            "Requirement already satisfied: jupyter-core>=4.6.1 in /usr/local/lib/python3.10/dist-packages (from notebook>=4.4.1->widgetsnbextension~=3.6.0->ipywidgets>=7.0.0->vectorbt) (5.7.2)\n",
            "Requirement already satisfied: nbformat in /usr/local/lib/python3.10/dist-packages (from notebook>=4.4.1->widgetsnbextension~=3.6.0->ipywidgets>=7.0.0->vectorbt) (5.10.4)\n",
            "Requirement already satisfied: nbconvert>=5 in /usr/local/lib/python3.10/dist-packages (from notebook>=4.4.1->widgetsnbextension~=3.6.0->ipywidgets>=7.0.0->vectorbt) (6.5.4)\n",
            "Requirement already satisfied: nest-asyncio>=1.5 in /usr/local/lib/python3.10/dist-packages (from notebook>=4.4.1->widgetsnbextension~=3.6.0->ipywidgets>=7.0.0->vectorbt) (1.6.0)\n",
            "Requirement already satisfied: Send2Trash>=1.8.0 in /usr/local/lib/python3.10/dist-packages (from notebook>=4.4.1->widgetsnbextension~=3.6.0->ipywidgets>=7.0.0->vectorbt) (1.8.3)\n",
            "Requirement already satisfied: terminado>=0.8.3 in /usr/local/lib/python3.10/dist-packages (from notebook>=4.4.1->widgetsnbextension~=3.6.0->ipywidgets>=7.0.0->vectorbt) (0.18.1)\n",
            "Requirement already satisfied: prometheus-client in /usr/local/lib/python3.10/dist-packages (from notebook>=4.4.1->widgetsnbextension~=3.6.0->ipywidgets>=7.0.0->vectorbt) (0.20.0)\n",
            "Requirement already satisfied: nbclassic>=0.4.7 in /usr/local/lib/python3.10/dist-packages (from notebook>=4.4.1->widgetsnbextension~=3.6.0->ipywidgets>=7.0.0->vectorbt) (1.0.0)\n",
            "Requirement already satisfied: ptyprocess>=0.5 in /usr/local/lib/python3.10/dist-packages (from pexpect>4.3->ipython>=4.0.0->ipywidgets>=7.0.0->vectorbt) (0.7.0)\n",
            "Requirement already satisfied: wcwidth in /usr/local/lib/python3.10/dist-packages (from prompt-toolkit!=3.0.0,!=3.0.1,<3.1.0,>=2.0.0->ipython>=4.0.0->ipywidgets>=7.0.0->vectorbt) (0.2.13)\n",
            "Requirement already satisfied: platformdirs>=2.5 in /usr/local/lib/python3.10/dist-packages (from jupyter-core>=4.6.1->notebook>=4.4.1->widgetsnbextension~=3.6.0->ipywidgets>=7.0.0->vectorbt) (4.2.1)\n",
            "Requirement already satisfied: jupyter-server>=1.8 in /usr/local/lib/python3.10/dist-packages (from nbclassic>=0.4.7->notebook>=4.4.1->widgetsnbextension~=3.6.0->ipywidgets>=7.0.0->vectorbt) (1.24.0)\n",
            "Requirement already satisfied: notebook-shim>=0.2.3 in /usr/local/lib/python3.10/dist-packages (from nbclassic>=0.4.7->notebook>=4.4.1->widgetsnbextension~=3.6.0->ipywidgets>=7.0.0->vectorbt) (0.2.4)\n",
            "Requirement already satisfied: lxml in /usr/local/lib/python3.10/dist-packages (from nbconvert>=5->notebook>=4.4.1->widgetsnbextension~=3.6.0->ipywidgets>=7.0.0->vectorbt) (4.9.4)\n",
            "Requirement already satisfied: beautifulsoup4 in /usr/local/lib/python3.10/dist-packages (from nbconvert>=5->notebook>=4.4.1->widgetsnbextension~=3.6.0->ipywidgets>=7.0.0->vectorbt) (4.12.3)\n",
            "Requirement already satisfied: bleach in /usr/local/lib/python3.10/dist-packages (from nbconvert>=5->notebook>=4.4.1->widgetsnbextension~=3.6.0->ipywidgets>=7.0.0->vectorbt) (6.1.0)\n",
            "Requirement already satisfied: defusedxml in /usr/local/lib/python3.10/dist-packages (from nbconvert>=5->notebook>=4.4.1->widgetsnbextension~=3.6.0->ipywidgets>=7.0.0->vectorbt) (0.7.1)\n",
            "Requirement already satisfied: entrypoints>=0.2.2 in /usr/local/lib/python3.10/dist-packages (from nbconvert>=5->notebook>=4.4.1->widgetsnbextension~=3.6.0->ipywidgets>=7.0.0->vectorbt) (0.4)\n",
            "Requirement already satisfied: jupyterlab-pygments in /usr/local/lib/python3.10/dist-packages (from nbconvert>=5->notebook>=4.4.1->widgetsnbextension~=3.6.0->ipywidgets>=7.0.0->vectorbt) (0.3.0)\n",
            "Requirement already satisfied: MarkupSafe>=2.0 in /usr/local/lib/python3.10/dist-packages (from nbconvert>=5->notebook>=4.4.1->widgetsnbextension~=3.6.0->ipywidgets>=7.0.0->vectorbt) (2.1.5)\n",
            "Requirement already satisfied: mistune<2,>=0.8.1 in /usr/local/lib/python3.10/dist-packages (from nbconvert>=5->notebook>=4.4.1->widgetsnbextension~=3.6.0->ipywidgets>=7.0.0->vectorbt) (0.8.4)\n",
            "Requirement already satisfied: nbclient>=0.5.0 in /usr/local/lib/python3.10/dist-packages (from nbconvert>=5->notebook>=4.4.1->widgetsnbextension~=3.6.0->ipywidgets>=7.0.0->vectorbt) (0.10.0)\n",
            "Requirement already satisfied: pandocfilters>=1.4.1 in /usr/local/lib/python3.10/dist-packages (from nbconvert>=5->notebook>=4.4.1->widgetsnbextension~=3.6.0->ipywidgets>=7.0.0->vectorbt) (1.5.1)\n",
            "Requirement already satisfied: tinycss2 in /usr/local/lib/python3.10/dist-packages (from nbconvert>=5->notebook>=4.4.1->widgetsnbextension~=3.6.0->ipywidgets>=7.0.0->vectorbt) (1.3.0)\n",
            "Requirement already satisfied: fastjsonschema>=2.15 in /usr/local/lib/python3.10/dist-packages (from nbformat->notebook>=4.4.1->widgetsnbextension~=3.6.0->ipywidgets>=7.0.0->vectorbt) (2.19.1)\n",
            "Requirement already satisfied: jsonschema>=2.6 in /usr/local/lib/python3.10/dist-packages (from nbformat->notebook>=4.4.1->widgetsnbextension~=3.6.0->ipywidgets>=7.0.0->vectorbt) (4.19.2)\n",
            "Requirement already satisfied: argon2-cffi-bindings in /usr/local/lib/python3.10/dist-packages (from argon2-cffi->notebook>=4.4.1->widgetsnbextension~=3.6.0->ipywidgets>=7.0.0->vectorbt) (21.2.0)\n",
            "Requirement already satisfied: attrs>=22.2.0 in /usr/local/lib/python3.10/dist-packages (from jsonschema>=2.6->nbformat->notebook>=4.4.1->widgetsnbextension~=3.6.0->ipywidgets>=7.0.0->vectorbt) (23.2.0)\n",
            "Requirement already satisfied: jsonschema-specifications>=2023.03.6 in /usr/local/lib/python3.10/dist-packages (from jsonschema>=2.6->nbformat->notebook>=4.4.1->widgetsnbextension~=3.6.0->ipywidgets>=7.0.0->vectorbt) (2023.12.1)\n",
            "Requirement already satisfied: referencing>=0.28.4 in /usr/local/lib/python3.10/dist-packages (from jsonschema>=2.6->nbformat->notebook>=4.4.1->widgetsnbextension~=3.6.0->ipywidgets>=7.0.0->vectorbt) (0.35.0)\n",
            "Requirement already satisfied: rpds-py>=0.7.1 in /usr/local/lib/python3.10/dist-packages (from jsonschema>=2.6->nbformat->notebook>=4.4.1->widgetsnbextension~=3.6.0->ipywidgets>=7.0.0->vectorbt) (0.18.0)\n",
            "Requirement already satisfied: anyio<4,>=3.1.0 in /usr/local/lib/python3.10/dist-packages (from jupyter-server>=1.8->nbclassic>=0.4.7->notebook>=4.4.1->widgetsnbextension~=3.6.0->ipywidgets>=7.0.0->vectorbt) (3.7.1)\n",
            "Requirement already satisfied: websocket-client in /usr/local/lib/python3.10/dist-packages (from jupyter-server>=1.8->nbclassic>=0.4.7->notebook>=4.4.1->widgetsnbextension~=3.6.0->ipywidgets>=7.0.0->vectorbt) (1.8.0)\n",
            "Requirement already satisfied: cffi>=1.0.1 in /usr/local/lib/python3.10/dist-packages (from argon2-cffi-bindings->argon2-cffi->notebook>=4.4.1->widgetsnbextension~=3.6.0->ipywidgets>=7.0.0->vectorbt) (1.16.0)\n",
            "Requirement already satisfied: soupsieve>1.2 in /usr/local/lib/python3.10/dist-packages (from beautifulsoup4->nbconvert>=5->notebook>=4.4.1->widgetsnbextension~=3.6.0->ipywidgets>=7.0.0->vectorbt) (2.5)\n",
            "Requirement already satisfied: webencodings in /usr/local/lib/python3.10/dist-packages (from bleach->nbconvert>=5->notebook>=4.4.1->widgetsnbextension~=3.6.0->ipywidgets>=7.0.0->vectorbt) (0.5.1)\n",
            "Requirement already satisfied: sniffio>=1.1 in /usr/local/lib/python3.10/dist-packages (from anyio<4,>=3.1.0->jupyter-server>=1.8->nbclassic>=0.4.7->notebook>=4.4.1->widgetsnbextension~=3.6.0->ipywidgets>=7.0.0->vectorbt) (1.3.1)\n",
            "Requirement already satisfied: exceptiongroup in /usr/local/lib/python3.10/dist-packages (from anyio<4,>=3.1.0->jupyter-server>=1.8->nbclassic>=0.4.7->notebook>=4.4.1->widgetsnbextension~=3.6.0->ipywidgets>=7.0.0->vectorbt) (1.2.1)\n",
            "Requirement already satisfied: pycparser in /usr/local/lib/python3.10/dist-packages (from cffi>=1.0.1->argon2-cffi-bindings->argon2-cffi->notebook>=4.4.1->widgetsnbextension~=3.6.0->ipywidgets>=7.0.0->vectorbt) (2.22)\n",
            "Installing collected packages: schedule, numpy, mypy-extensions, llvmlite, jedi, dill, numba, dateparser, vectorbt\n",
            "  Attempting uninstall: numpy\n",
            "    Found existing installation: numpy 1.25.2\n",
            "    Uninstalling numpy-1.25.2:\n",
            "      Successfully uninstalled numpy-1.25.2\n",
            "  Attempting uninstall: llvmlite\n",
            "    Found existing installation: llvmlite 0.41.1\n",
            "    Uninstalling llvmlite-0.41.1:\n",
            "      Successfully uninstalled llvmlite-0.41.1\n",
            "  Attempting uninstall: numba\n",
            "    Found existing installation: numba 0.58.1\n",
            "    Uninstalling numba-0.58.1:\n",
            "      Successfully uninstalled numba-0.58.1\n",
            "\u001b[31mERROR: pip's dependency resolver does not currently take into account all the packages that are installed. This behaviour is the source of the following dependency conflicts.\n",
            "chex 0.1.86 requires numpy>=1.24.1, but you have numpy 1.23.5 which is incompatible.\n",
            "pandas-stubs 2.0.3.230814 requires numpy>=1.25.0; python_version >= \"3.9\", but you have numpy 1.23.5 which is incompatible.\u001b[0m\u001b[31m\n",
            "\u001b[0mSuccessfully installed dateparser-1.2.0 dill-0.3.8 jedi-0.19.1 llvmlite-0.39.1 mypy-extensions-1.0.0 numba-0.56.4 numpy-1.23.5 schedule-1.2.1 vectorbt-0.26.1\n"
          ]
        },
        {
          "output_type": "display_data",
          "data": {
            "application/vnd.colab-display-data+json": {
              "pip_warning": {
                "packages": [
                  "numpy"
                ]
              },
              "id": "0bae1149abc44d78ac39f3d27a7cf0fc"
            }
          },
          "metadata": {}
        }
      ]
    },
    {
      "cell_type": "code",
      "execution_count": 1,
      "metadata": {
        "id": "zyuC-w-DqFHB"
      },
      "outputs": [],
      "source": [
        "import pandas as pd\n",
        "import numpy as np\n",
        "import yfinance as yf\n",
        "import vectorbt as vbt"
      ]
    },
    {
      "cell_type": "code",
      "execution_count": 2,
      "metadata": {
        "colab": {
          "base_uri": "https://localhost:8080/"
        },
        "id": "_SyccDluqFHD",
        "outputId": "8082b8f0-b332-4a66-cda8-6f75566f2540"
      },
      "outputs": [
        {
          "output_type": "stream",
          "name": "stderr",
          "text": [
            "\r[*********************100%%**********************]  1 of 1 completed\n"
          ]
        }
      ],
      "source": [
        "# Download historical stock price data\n",
        "df = yf.download(\"COIN\", start=\"2024-04-01\", end=\"2024-12-31\", interval='15m')"
      ]
    },
    {
      "cell_type": "code",
      "execution_count": null,
      "metadata": {
        "id": "-AvIse1JqFHF"
      },
      "outputs": [],
      "source": [
        "# Define the Ichimoku Cloud function\n",
        "def ichimoku_cloud(df, n_delay=26, k_delay=9, lag_span=52):\n",
        "    # Calculate Tenkan-Sen\n",
        "    tenkan_sen_high = df['High'].rolling(window=n_delay).max()\n",
        "    tenkan_sen_low = df['Low'].rolling(window=n_delay).min()\n",
        "    tenkan_sen = (tenkan_sen_high + tenkan_sen_low) / 2\n",
        "\n",
        "    # Calculate Kijun-Sen\n",
        "    kijun_sen_high = df['High'].rolling(window=k_delay).max()\n",
        "    kijun_sen_low = df['Low'].rolling(window=k_delay).min()\n",
        "    kijun_sen = (kijun_sen_high + kijun_sen_low) / 2\n",
        "\n",
        "    # Calculate Senkou Span A\n",
        "    senkou_span_a = ((tenkan_sen + kijun_sen) / 2).shift(k_delay)\n",
        "\n",
        "    # Calculate Senkou Span B\n",
        "    lagging_span_high = df['High'].rolling(window=lag_span).max().shift(lag_span)\n",
        "    lagging_span_low = df['Low'].rolling(window=lag_span).min().shift(lag_span)\n",
        "    senkou_span_b = ((lagging_span_high + lagging_span_low) / 2).shift(k_delay)\n",
        "\n",
        "    # Calculate Chikou Span\n",
        "    chikou_span = df['Close'].shift(-k_delay)\n",
        "\n",
        "    # Include the 'Close' column in the output\n",
        "    return pd.DataFrame({\n",
        "        'Tenkan-Sen': tenkan_sen,\n",
        "        'Kijun-Sen': kijun_sen,\n",
        "        'Senkou Span A': senkou_span_a,\n",
        "        'Senkou Span B': senkou_span_b,\n",
        "        'Chikou Span': chikou_span,\n",
        "        'Close': df['Close'],  # Ensure 'Close' column is included\n",
        "        'Open': df['Open'],    # Include 'Open' column for potential use\n",
        "        'High': df['High'],\n",
        "        'Low': df['Low'],\n",
        "    }, index=df.index)\n"
      ]
    },
    {
      "cell_type": "code",
      "execution_count": null,
      "metadata": {
        "id": "ov_mgUOhqFHF",
        "outputId": "0163aa1a-9a32-48dc-eb1e-a0c502b8d126"
      },
      "outputs": [
        {
          "name": "stdout",
          "output_type": "stream",
          "text": [
            "                     Tenkan-Sen   Kijun-Sen  Senkou Span A  Senkou Span B  \\\n",
            "Datetime                                                                    \n",
            "2024-04-01 09:30:00         NaN         NaN            NaN            NaN   \n",
            "2024-04-01 09:45:00         NaN         NaN            NaN            NaN   \n",
            "2024-04-01 10:00:00         NaN         NaN            NaN            NaN   \n",
            "2024-04-01 10:15:00         NaN         NaN            NaN            NaN   \n",
            "2024-04-01 10:30:00         NaN         NaN            NaN            NaN   \n",
            "...                         ...         ...            ...            ...   \n",
            "2024-05-01 12:00:00  203.900002  202.515350     204.044971     227.099998   \n",
            "2024-05-01 12:15:00  203.034996  202.945351     203.834999     227.740005   \n",
            "2024-05-01 12:30:00  202.489998  202.945351     203.785000     227.740005   \n",
            "2024-05-01 12:45:00  202.279999  202.945351     203.785000     227.740005   \n",
            "2024-05-01 13:00:00  202.254997  202.945351     203.745724     227.840004   \n",
            "\n",
            "                     Chikou Span       Close        Open        High  \\\n",
            "Datetime                                                               \n",
            "2024-04-01 09:30:00   255.440002  262.806000  261.869995  264.950012   \n",
            "2024-04-01 09:45:00   255.774994  268.584015  263.429810  268.809998   \n",
            "2024-04-01 10:00:00   256.230103  266.899994  268.369995  268.799988   \n",
            "2024-04-01 10:15:00   254.449997  263.730011  266.950012  267.315002   \n",
            "2024-04-01 10:30:00   254.210007  260.054993  263.715088  264.839996   \n",
            "...                          ...         ...         ...         ...   \n",
            "2024-05-01 12:00:00          NaN  205.160004  201.009995  205.399994   \n",
            "2024-05-01 12:15:00          NaN  205.889999  205.105606  206.259995   \n",
            "2024-05-01 12:30:00          NaN  205.039993  205.820007  206.139999   \n",
            "2024-05-01 12:45:00          NaN  205.654999  205.229996  206.199997   \n",
            "2024-05-01 13:00:00          NaN  205.720001  205.649994  205.839996   \n",
            "\n",
            "                            Low  \n",
            "Datetime                         \n",
            "2024-04-01 09:30:00  257.600006  \n",
            "2024-04-01 09:45:00  263.244995  \n",
            "2024-04-01 10:00:00  265.579987  \n",
            "2024-04-01 10:15:00  262.600006  \n",
            "2024-04-01 10:30:00  259.450012  \n",
            "...                         ...  \n",
            "2024-05-01 12:00:00  200.589996  \n",
            "2024-05-01 12:15:00  204.559998  \n",
            "2024-05-01 12:30:00  204.770996  \n",
            "2024-05-01 12:45:00  205.050003  \n",
            "2024-05-01 13:00:00  205.562805  \n",
            "\n",
            "[587 rows x 9 columns]\n"
          ]
        }
      ],
      "source": [
        "# Calculate Ichimoku Cloud\n",
        "ichimoku = ichimoku_cloud(df)\n",
        "\n",
        "# Print the Ichimoku Cloud data\n",
        "print(ichimoku)"
      ]
    },
    {
      "cell_type": "code",
      "execution_count": null,
      "metadata": {
        "id": "gEElYfkqqFHG"
      },
      "outputs": [],
      "source": [
        "def ichimoku_entry_signals(ichimoku):\n",
        "    # Condition 1 for long entry: Check if the candle opens and closes above the cloud\n",
        "    above_cloud_long = (ichimoku['Close'] > ichimoku['Senkou Span A']) & (ichimoku['Close'] > ichimoku['Senkou Span B'])\n",
        "\n",
        "    # Condition 2 for long entry: Ensure Tenkan-Sen is above Kijun-Sen\n",
        "    tenkan_above_kijun_long = ichimoku['Tenkan-Sen'] > ichimoku['Kijun-Sen']\n",
        "\n",
        "    # Condition 3 for long entry: Check if OHLC values are all above Tenkan-Sen and Kijun-Sen\n",
        "    ohlc_above_sen_long = (ichimoku['Open'] > ichimoku['Tenkan-Sen']) & \\\n",
        "                     (ichimoku['High'] > ichimoku['Tenkan-Sen']) & \\\n",
        "                     (ichimoku['Low'] > ichimoku['Tenkan-Sen']) & \\\n",
        "                     (ichimoku['Close'] > ichimoku['Tenkan-Sen']) & \\\n",
        "                     (ichimoku['Open'] > ichimoku['Kijun-Sen']) & \\\n",
        "                     (ichimoku['High'] > ichimoku['Kijun-Sen']) & \\\n",
        "                     (ichimoku['Low'] > ichimoku['Kijun-Sen']) & \\\n",
        "                     (ichimoku['Close'] > ichimoku['Kijun-Sen'])\n",
        "\n",
        "    # Condition 4 for long entry: Check if future cloud is positive (long)\n",
        "    future_cloud_positive_long = ichimoku['Senkou Span A'] > ichimoku['Senkou Span B']\n",
        "\n",
        "    # Combine all conditions for long entry\n",
        "    entry_signal_long = above_cloud_long & tenkan_above_kijun_long & ohlc_above_sen_long & future_cloud_positive_long\n",
        "\n",
        "    # Condition 1 for short entry: Check if the candle opens and closes below the cloud\n",
        "    below_cloud_short = (ichimoku['Close'] < ichimoku['Senkou Span A']) & (ichimoku['Close'] < ichimoku['Senkou Span B'])\n",
        "\n",
        "    # Condition 2 for short entry: Ensure Tenkan-Sen is below Kijun-Sen\n",
        "    tenkan_below_kijun_short = ichimoku['Tenkan-Sen'] < ichimoku['Kijun-Sen']\n",
        "\n",
        "    # Condition 3 for short entry: Check if OHLC values are all below Tenkan-Sen and Kijun-Sen\n",
        "    ohlc_below_sen_short = (ichimoku['Open'] < ichimoku['Tenkan-Sen']) & \\\n",
        "                     (ichimoku['High'] < ichimoku['Tenkan-Sen']) & \\\n",
        "                     (ichimoku['Low'] < ichimoku['Tenkan-Sen']) & \\\n",
        "                     (ichimoku['Close'] < ichimoku['Tenkan-Sen']) & \\\n",
        "                     (ichimoku['Open'] < ichimoku['Kijun-Sen']) & \\\n",
        "                     (ichimoku['High'] < ichimoku['Kijun-Sen']) & \\\n",
        "                     (ichimoku['Low'] < ichimoku['Kijun-Sen']) & \\\n",
        "                     (ichimoku['Close'] < ichimoku['Kijun-Sen'])\n",
        "\n",
        "    # Condition 4 for short entry: Check if future cloud is negative (short)\n",
        "    future_cloud_negative_short = ichimoku['Senkou Span A'] < ichimoku['Senkou Span B']\n",
        "\n",
        "    # Combine all conditions for short entry\n",
        "    entry_signal_short = below_cloud_short & tenkan_below_kijun_short & ohlc_below_sen_short & future_cloud_negative_short\n",
        "\n",
        "    # Combine long and short entry signals\n",
        "    entry_signals = entry_signal_long.astype(int) - entry_signal_short.astype(int)\n",
        "\n",
        "    return entry_signals\n",
        "\n"
      ]
    },
    {
      "cell_type": "markdown",
      "metadata": {
        "id": "MUJLsS_FqFHH"
      },
      "source": [
        "---"
      ]
    },
    {
      "cell_type": "code",
      "execution_count": null,
      "metadata": {
        "id": "Zge2P2NPqFHd"
      },
      "outputs": [],
      "source": [
        "entry_signals = ichimoku_entry_signal(ichimoku)"
      ]
    },
    {
      "cell_type": "code",
      "execution_count": null,
      "metadata": {
        "id": "_JYUdX5jqFHd"
      },
      "outputs": [],
      "source": [
        "# Initialize Portfolio object with entry signals\n",
        "portfolio = vbt.Portfolio.from_signals(\n",
        "    close=ichimoku['Close'],\n",
        "    entries=entry_signals,\n",
        "    # Add exits parameter if exit signals are defined\n",
        ")"
      ]
    },
    {
      "cell_type": "code",
      "execution_count": null,
      "metadata": {
        "id": "QqF9o7gPqFHe"
      },
      "outputs": [],
      "source": [
        "# Calculate trade statistics\n",
        "trades = portfolio.trades"
      ]
    },
    {
      "cell_type": "code",
      "execution_count": null,
      "metadata": {
        "id": "vaercSFWqFHe"
      },
      "outputs": [],
      "source": [
        "# Step 5: Evaluate Results\n",
        "total_trades = trades.count()\n",
        "winning_trades = trades.winning.count()\n",
        "losing_trades = trades.losing.count()\n",
        "# Calculate other performance metrics...\n"
      ]
    },
    {
      "cell_type": "code",
      "execution_count": null,
      "metadata": {
        "id": "alNAXNJKqFHf",
        "outputId": "671aaf50-fa7d-4281-f630-17aef6875909"
      },
      "outputs": [
        {
          "name": "stdout",
          "output_type": "stream",
          "text": [
            "Trade Statistics:\n",
            "Total Trades: 1\n",
            "Winning Trades: 0\n",
            "Losing Trades: 1\n"
          ]
        }
      ],
      "source": [
        "# Print trade statistics\n",
        "print(\"Trade Statistics:\")\n",
        "print(\"Total Trades:\", total_trades)\n",
        "print(\"Winning Trades:\", winning_trades)\n",
        "print(\"Losing Trades:\", losing_trades)"
      ]
    },
    {
      "cell_type": "code",
      "execution_count": null,
      "metadata": {
        "colab": {
          "referenced_widgets": [
            "a2ce40aeee554cab8c4569fd8dde7e76"
          ]
        },
        "id": "_dJzsLf8qFHf",
        "outputId": "45eaf3f1-e5ab-4083-de92-822cfda2d8df"
      },
      "outputs": [
        {
          "data": {
            "application/vnd.jupyter.widget-view+json": {
              "model_id": "a2ce40aeee554cab8c4569fd8dde7e76",
              "version_major": 2,
              "version_minor": 0
            },
            "text/plain": [
              "FigureWidget({\n",
              "    'data': [{'legendgroup': '0',\n",
              "              'line': {'color': '#1f77b4'},\n",
              "              'name': 'Close',\n",
              "              'showlegend': True,\n",
              "              'type': 'scatter',\n",
              "              'uid': 'fa7d151b-5ed6-4d0d-99de-56cde33a287a',\n",
              "              'x': array([datetime.datetime(2024, 4, 1, 9, 30),\n",
              "                          datetime.datetime(2024, 4, 1, 9, 45),\n",
              "                          datetime.datetime(2024, 4, 1, 10, 0), ...,\n",
              "                          datetime.datetime(2024, 5, 1, 12, 30),\n",
              "                          datetime.datetime(2024, 5, 1, 12, 45),\n",
              "                          datetime.datetime(2024, 5, 1, 13, 0)], dtype=object),\n",
              "              'xaxis': 'x',\n",
              "              'y': array([262.80599976, 268.58401489, 266.8999939 , ..., 205.03999329,\n",
              "                          205.65499878, 205.72000122]),\n",
              "              'yaxis': 'y'},\n",
              "             {'customdata': array([[0.        , 0.45113123, 0.        ]]),\n",
              "              'hovertemplate': ('Order Id: %{customdata[0]}<br>' ... '<br>Fees: %{customdata[2]:.6f}'),\n",
              "              'legendgroup': '1',\n",
              "              'marker': {'color': '#37B13F',\n",
              "                         'line': {'color': 'rgb(38,123,44)', 'width': 1},\n",
              "                         'size': 8,\n",
              "                         'symbol': 'triangle-up'},\n",
              "              'mode': 'markers',\n",
              "              'name': 'Buy',\n",
              "              'type': 'scatter',\n",
              "              'uid': '2e21ad74-5f5e-417d-a25d-634fc367edee',\n",
              "              'x': array([datetime.datetime(2024, 4, 22, 12, 30)], dtype=object),\n",
              "              'xaxis': 'x',\n",
              "              'y': array([221.66499329]),\n",
              "              'yaxis': 'y'},\n",
              "             {'customdata': array([[ 0.        ,  0.        , -7.19328381, -0.07193284]]),\n",
              "              'hovertemplate': ('Exit Trade Id: %{customdata[0]' ... 'r>Return: %{customdata[3]:.2%}'),\n",
              "              'legendgroup': '2',\n",
              "              'marker': {'color': '#FFAA00',\n",
              "                         'line': {'color': 'rgb(178,118,0)', 'width': 1},\n",
              "                         'opacity': array([0.9]),\n",
              "                         'size': array([7]),\n",
              "                         'symbol': 'circle'},\n",
              "              'mode': 'markers',\n",
              "              'name': 'Open',\n",
              "              'type': 'scatter',\n",
              "              'uid': '1d761ec5-b469-4339-8b71-6b9756bf88ac',\n",
              "              'x': array([datetime.datetime(2024, 5, 1, 13, 0)], dtype=object),\n",
              "              'xaxis': 'x2',\n",
              "              'y': array([-0.07193284]),\n",
              "              'yaxis': 'y2'},\n",
              "             {'legendgroup': '3',\n",
              "              'line': {'color': '#7f7f7f'},\n",
              "              'name': 'Benchmark',\n",
              "              'showlegend': True,\n",
              "              'type': 'scatter',\n",
              "              'uid': 'e2a8557e-9023-47a6-b3f2-753e508382d8',\n",
              "              'x': array([datetime.datetime(2024, 4, 1, 9, 30),\n",
              "                          datetime.datetime(2024, 4, 1, 9, 45),\n",
              "                          datetime.datetime(2024, 4, 1, 10, 0), ...,\n",
              "                          datetime.datetime(2024, 5, 1, 12, 30),\n",
              "                          datetime.datetime(2024, 5, 1, 12, 45),\n",
              "                          datetime.datetime(2024, 5, 1, 13, 0)], dtype=object),\n",
              "              'xaxis': 'x3',\n",
              "              'y': array([1.        , 1.02198586, 1.01557801, ..., 0.78019525, 0.7825354 ,\n",
              "                          0.78278274]),\n",
              "              'yaxis': 'y3'},\n",
              "             {'hoverinfo': 'skip',\n",
              "              'legendgroup': '4',\n",
              "              'line': {'color': 'rgba(0, 0, 0, 0)', 'width': 0},\n",
              "              'opacity': 0,\n",
              "              'showlegend': False,\n",
              "              'type': 'scatter',\n",
              "              'uid': '51b38326-0ff8-483d-9940-e8d2e933377b',\n",
              "              'x': array([datetime.datetime(2024, 4, 1, 9, 30),\n",
              "                          datetime.datetime(2024, 4, 1, 9, 45),\n",
              "                          datetime.datetime(2024, 4, 1, 10, 0), ...,\n",
              "                          datetime.datetime(2024, 5, 1, 12, 30),\n",
              "                          datetime.datetime(2024, 5, 1, 12, 45),\n",
              "                          datetime.datetime(2024, 5, 1, 13, 0)], dtype=object),\n",
              "              'xaxis': 'x3',\n",
              "              'y': array([1, 1, 1, ..., 1, 1, 1]),\n",
              "              'yaxis': 'y3'},\n",
              "             {'connectgaps': False,\n",
              "              'fill': 'tonexty',\n",
              "              'fillcolor': 'rgba(0, 128, 0, 0.3)',\n",
              "              'hoverinfo': 'skip',\n",
              "              'legendgroup': '4',\n",
              "              'line': {'color': 'rgba(0, 0, 0, 0)', 'width': 0},\n",
              "              'opacity': 0,\n",
              "              'showlegend': False,\n",
              "              'type': 'scatter',\n",
              "              'uid': '214b5d75-cdd5-4313-b8b1-ebd44d6a0d6d',\n",
              "              'x': array([datetime.datetime(2024, 4, 1, 9, 30),\n",
              "                          datetime.datetime(2024, 4, 1, 9, 45),\n",
              "                          datetime.datetime(2024, 4, 1, 10, 0), ...,\n",
              "                          datetime.datetime(2024, 5, 1, 12, 30),\n",
              "                          datetime.datetime(2024, 5, 1, 12, 45),\n",
              "                          datetime.datetime(2024, 5, 1, 13, 0)], dtype=object),\n",
              "              'xaxis': 'x3',\n",
              "              'y': array([1., 1., 1., ..., 1., 1., 1.]),\n",
              "              'yaxis': 'y3'},\n",
              "             {'hoverinfo': 'skip',\n",
              "              'legendgroup': '4',\n",
              "              'line': {'color': 'rgba(0, 0, 0, 0)', 'width': 0},\n",
              "              'opacity': 0,\n",
              "              'showlegend': False,\n",
              "              'type': 'scatter',\n",
              "              'uid': '49c298f6-4872-4694-84fe-6b39693fa2f0',\n",
              "              'x': array([datetime.datetime(2024, 4, 1, 9, 30),\n",
              "                          datetime.datetime(2024, 4, 1, 9, 45),\n",
              "                          datetime.datetime(2024, 4, 1, 10, 0), ...,\n",
              "                          datetime.datetime(2024, 5, 1, 12, 30),\n",
              "                          datetime.datetime(2024, 5, 1, 12, 45),\n",
              "                          datetime.datetime(2024, 5, 1, 13, 0)], dtype=object),\n",
              "              'xaxis': 'x3',\n",
              "              'y': array([1, 1, 1, ..., 1, 1, 1]),\n",
              "              'yaxis': 'y3'},\n",
              "             {'connectgaps': False,\n",
              "              'fill': 'tonexty',\n",
              "              'fillcolor': 'rgba(255, 0, 0, 0.3)',\n",
              "              'hoverinfo': 'skip',\n",
              "              'legendgroup': '4',\n",
              "              'line': {'color': 'rgba(0, 0, 0, 0)', 'width': 0},\n",
              "              'opacity': 0,\n",
              "              'showlegend': False,\n",
              "              'type': 'scatter',\n",
              "              'uid': '7e3f06ad-a33f-4d0d-97a6-8a5ea82c970e',\n",
              "              'x': array([datetime.datetime(2024, 4, 1, 9, 30),\n",
              "                          datetime.datetime(2024, 4, 1, 9, 45),\n",
              "                          datetime.datetime(2024, 4, 1, 10, 0), ...,\n",
              "                          datetime.datetime(2024, 5, 1, 12, 30),\n",
              "                          datetime.datetime(2024, 5, 1, 12, 45),\n",
              "                          datetime.datetime(2024, 5, 1, 13, 0)], dtype=object),\n",
              "              'xaxis': 'x3',\n",
              "              'y': array([1.        , 1.        , 1.        , ..., 0.92499943, 0.92777392,\n",
              "                          0.92806716]),\n",
              "              'yaxis': 'y3'},\n",
              "             {'legendgroup': '5',\n",
              "              'line': {'color': '#9467bd'},\n",
              "              'name': 'Value',\n",
              "              'showlegend': True,\n",
              "              'type': 'scatter',\n",
              "              'uid': 'c598b948-9f43-490c-8c17-1c8212a5e701',\n",
              "              'x': array([datetime.datetime(2024, 4, 1, 9, 30),\n",
              "                          datetime.datetime(2024, 4, 1, 9, 45),\n",
              "                          datetime.datetime(2024, 4, 1, 10, 0), ...,\n",
              "                          datetime.datetime(2024, 5, 1, 12, 30),\n",
              "                          datetime.datetime(2024, 5, 1, 12, 45),\n",
              "                          datetime.datetime(2024, 5, 1, 13, 0)], dtype=object),\n",
              "              'xaxis': 'x3',\n",
              "              'y': array([1.        , 1.        , 1.        , ..., 0.92499943, 0.92777392,\n",
              "                          0.92806716]),\n",
              "              'yaxis': 'y3'},\n",
              "             {'hoverinfo': 'skip',\n",
              "              'legendgroup': '4',\n",
              "              'line': {'color': 'rgba(0, 0, 0, 0)', 'width': 0},\n",
              "              'opacity': 0.0,\n",
              "              'showlegend': False,\n",
              "              'type': 'scatter',\n",
              "              'uid': '64d867d5-669b-4a2f-9efe-18506f5dfdd7',\n",
              "              'x': array([datetime.datetime(2024, 4, 1, 9, 30),\n",
              "                          datetime.datetime(2024, 4, 1, 9, 45),\n",
              "                          datetime.datetime(2024, 4, 1, 10, 0), ...,\n",
              "                          datetime.datetime(2024, 5, 1, 12, 30),\n",
              "                          datetime.datetime(2024, 5, 1, 12, 45),\n",
              "                          datetime.datetime(2024, 5, 1, 13, 0)], dtype=object),\n",
              "              'xaxis': 'x3',\n",
              "              'y': array([1, 1, 1, ..., 1, 1, 1]),\n",
              "              'yaxis': 'y3'}],\n",
              "    'layout': {'annotations': [{'font': {'size': 16},\n",
              "                                'showarrow': False,\n",
              "                                'text': 'Orders',\n",
              "                                'x': 0.5,\n",
              "                                'xanchor': 'center',\n",
              "                                'xref': 'paper',\n",
              "                                'y': 1.0,\n",
              "                                'yanchor': 'bottom',\n",
              "                                'yref': 'paper'},\n",
              "                               {'font': {'size': 16},\n",
              "                                'showarrow': False,\n",
              "                                'text': 'Trade PnL',\n",
              "                                'x': 0.5,\n",
              "                                'xanchor': 'center',\n",
              "                                'xref': 'paper',\n",
              "                                'y': 0.6527777777777777,\n",
              "                                'yanchor': 'bottom',\n",
              "                                'yref': 'paper'},\n",
              "                               {'font': {'size': 16},\n",
              "                                'showarrow': False,\n",
              "                                'text': 'Cumulative Returns',\n",
              "                                'x': 0.5,\n",
              "                                'xanchor': 'center',\n",
              "                                'xref': 'paper',\n",
              "                                'y': 0.3055555555555555,\n",
              "                                'yanchor': 'bottom',\n",
              "                                'yref': 'paper'}],\n",
              "               'height': 960,\n",
              "               'legend': {'orientation': 'h',\n",
              "                          'traceorder': 'normal',\n",
              "                          'x': 1,\n",
              "                          'xanchor': 'right',\n",
              "                          'y': 1.0416666666666667,\n",
              "                          'yanchor': 'bottom'},\n",
              "               'margin': {'b': 30, 'l': 30, 'r': 30, 't': 30},\n",
              "               'shapes': [{'line': {'color': 'gray', 'dash': 'dash'},\n",
              "                           'type': 'line',\n",
              "                           'x0': 0.0,\n",
              "                           'x1': 1.0,\n",
              "                           'xref': 'paper',\n",
              "                           'y0': 0,\n",
              "                           'y1': 0,\n",
              "                           'yref': 'y2'},\n",
              "                          {'line': {'color': 'gray', 'dash': 'dash'},\n",
              "                           'type': 'line',\n",
              "                           'x0': 0.0,\n",
              "                           'x1': 1.0,\n",
              "                           'xref': 'paper',\n",
              "                           'y0': 1,\n",
              "                           'y1': 1,\n",
              "                           'yref': 'y3'}],\n",
              "               'showlegend': True,\n",
              "               'template': '...',\n",
              "               'width': 750,\n",
              "               'xaxis': {'anchor': 'y', 'domain': [0.0, 1.0], 'matches': 'x3', 'showticklabels': False},\n",
              "               'xaxis2': {'anchor': 'y2', 'domain': [0.0, 1.0], 'matches': 'x3', 'showticklabels': False},\n",
              "               'xaxis3': {'anchor': 'y3', 'domain': [0.0, 1.0], 'title': {'text': 'Index'}},\n",
              "               'yaxis': {'anchor': 'x', 'domain': [0.6944444444444444, 1.0], 'title': {'text': 'Price'}},\n",
              "               'yaxis2': {'anchor': 'x2',\n",
              "                          'domain': [0.3472222222222222, 0.6527777777777777],\n",
              "                          'tickformat': '.2%',\n",
              "                          'title': {'text': 'Trade PnL'}},\n",
              "               'yaxis3': {'anchor': 'x3', 'domain': [0.0, 0.3055555555555555], 'title': {'text': 'Cumulative returns'}}}\n",
              "})"
            ]
          },
          "execution_count": 78,
          "metadata": {},
          "output_type": "execute_result"
        }
      ],
      "source": [
        "# Visualize performance (optional)\n",
        "portfolio.plot()"
      ]
    },
    {
      "cell_type": "code",
      "execution_count": null,
      "metadata": {
        "id": "RmedLASuqFHg",
        "outputId": "45015499-7856-4f7b-a915-47becd54b5f8"
      },
      "outputs": [
        {
          "name": "stderr",
          "output_type": "stream",
          "text": [
            "/home/edu/Documents/trading/Ichimoku/ichi/lib/python3.11/site-packages/vectorbt/generic/stats_builder.py:396: UserWarning:\n",
            "\n",
            "Metric 'sharpe_ratio' requires frequency to be set\n",
            "\n",
            "/home/edu/Documents/trading/Ichimoku/ichi/lib/python3.11/site-packages/vectorbt/generic/stats_builder.py:396: UserWarning:\n",
            "\n",
            "Metric 'calmar_ratio' requires frequency to be set\n",
            "\n",
            "/home/edu/Documents/trading/Ichimoku/ichi/lib/python3.11/site-packages/vectorbt/generic/stats_builder.py:396: UserWarning:\n",
            "\n",
            "Metric 'omega_ratio' requires frequency to be set\n",
            "\n",
            "/home/edu/Documents/trading/Ichimoku/ichi/lib/python3.11/site-packages/vectorbt/generic/stats_builder.py:396: UserWarning:\n",
            "\n",
            "Metric 'sortino_ratio' requires frequency to be set\n",
            "\n"
          ]
        },
        {
          "data": {
            "text/plain": [
              "Start                         2024-04-01 09:30:00\n",
              "End                           2024-05-01 13:00:00\n",
              "Period                                        587\n",
              "Start Value                                 100.0\n",
              "End Value                               92.806716\n",
              "Total Return [%]                        -7.193284\n",
              "Benchmark Return [%]                   -21.721726\n",
              "Max Gross Exposure [%]                      100.0\n",
              "Total Fees Paid                               0.0\n",
              "Max Drawdown [%]                        15.348433\n",
              "Max Drawdown Duration                       153.0\n",
              "Total Trades                                    1\n",
              "Total Closed Trades                             0\n",
              "Total Open Trades                               1\n",
              "Open Trade PnL                          -7.193284\n",
              "Win Rate [%]                                  NaN\n",
              "Best Trade [%]                                NaN\n",
              "Worst Trade [%]                               NaN\n",
              "Avg Winning Trade [%]                         NaN\n",
              "Avg Losing Trade [%]                          NaN\n",
              "Avg Winning Trade Duration                    NaN\n",
              "Avg Losing Trade Duration                     NaN\n",
              "Profit Factor                                 NaN\n",
              "Expectancy                                    NaN\n",
              "dtype: object"
            ]
          },
          "execution_count": 79,
          "metadata": {},
          "output_type": "execute_result"
        }
      ],
      "source": [
        "portfolio.stats()"
      ]
    }
  ],
  "metadata": {
    "kernelspec": {
      "display_name": "ichi",
      "language": "python",
      "name": "python3"
    },
    "language_info": {
      "codemirror_mode": {
        "name": "ipython",
        "version": 3
      },
      "file_extension": ".py",
      "mimetype": "text/x-python",
      "name": "python",
      "nbconvert_exporter": "python",
      "pygments_lexer": "ipython3",
      "version": "3.11.5"
    },
    "colab": {
      "provenance": [],
      "include_colab_link": true
    }
  },
  "nbformat": 4,
  "nbformat_minor": 0
}